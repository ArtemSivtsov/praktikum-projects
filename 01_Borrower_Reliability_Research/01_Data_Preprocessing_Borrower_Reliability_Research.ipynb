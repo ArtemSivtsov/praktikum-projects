{
 "cells": [
  {
   "cell_type": "markdown",
   "metadata": {},
   "source": [
    "# Проект номер 1. Предобработка данных"
   ]
  },
  {
   "cell_type": "markdown",
   "metadata": {},
   "source": [
    "## Исследование надёжности заёмщиков\n",
    "\n",
    "Заказчик — кредитный отдел банка. Нужно разобраться, влияет ли семейное положение и количество детей клиента на факт погашения кредита в срок. Входные данные от банка — статистика о платёжеспособности клиентов.\n",
    "\n",
    "Результаты исследования будут учтены при построении модели **кредитного скоринга**"
   ]
  },
  {
   "cell_type": "markdown",
   "metadata": {},
   "source": [
    "### Шаг 1. Откройте файл с данными и изучите общую информацию. "
   ]
  },
  {
   "cell_type": "code",
   "execution_count": 1,
   "metadata": {
    "scrolled": true
   },
   "outputs": [
    {
     "name": "stdout",
     "output_type": "stream",
     "text": [
      "   children  days_employed  dob_years education  education_id  \\\n",
      "0         1   -8437.673028         42    высшее             0   \n",
      "1         1   -4024.803754         36   среднее             1   \n",
      "2         0   -5623.422610         33   Среднее             1   \n",
      "3         3   -4124.747207         32   среднее             1   \n",
      "4         0  340266.072047         53   среднее             1   \n",
      "5         0    -926.185831         27    высшее             0   \n",
      "6         0   -2879.202052         43    высшее             0   \n",
      "7         0    -152.779569         50   СРЕДНЕЕ             1   \n",
      "8         2   -6929.865299         35    ВЫСШЕЕ             0   \n",
      "9         0   -2188.756445         41   среднее             1   \n",
      "\n",
      "      family_status  family_status_id gender income_type  debt   total_income  \\\n",
      "0   женат / замужем                 0      F   сотрудник     0  253875.639453   \n",
      "1   женат / замужем                 0      F   сотрудник     0  112080.014102   \n",
      "2   женат / замужем                 0      M   сотрудник     0  145885.952297   \n",
      "3   женат / замужем                 0      M   сотрудник     0  267628.550329   \n",
      "4  гражданский брак                 1      F   пенсионер     0  158616.077870   \n",
      "5  гражданский брак                 1      M   компаньон     0  255763.565419   \n",
      "6   женат / замужем                 0      F   компаньон     0  240525.971920   \n",
      "7   женат / замужем                 0      M   сотрудник     0  135823.934197   \n",
      "8  гражданский брак                 1      F   сотрудник     0   95856.832424   \n",
      "9   женат / замужем                 0      M   сотрудник     0  144425.938277   \n",
      "\n",
      "                      purpose  \n",
      "0               покупка жилья  \n",
      "1     приобретение автомобиля  \n",
      "2               покупка жилья  \n",
      "3  дополнительное образование  \n",
      "4             сыграть свадьбу  \n",
      "5               покупка жилья  \n",
      "6           операции с жильем  \n",
      "7                 образование  \n",
      "8       на проведение свадьбы  \n",
      "9     покупка жилья для семьи  \n"
     ]
    }
   ],
   "source": [
    "import pandas as pd\n",
    "data = pd.read_csv('/datasets/data.csv')\n",
    "print(data.head(10))\n"
   ]
  },
  {
   "cell_type": "code",
   "execution_count": 2,
   "metadata": {
    "scrolled": true
   },
   "outputs": [
    {
     "name": "stdout",
     "output_type": "stream",
     "text": [
      "<class 'pandas.core.frame.DataFrame'>\n",
      "RangeIndex: 21525 entries, 0 to 21524\n",
      "Data columns (total 12 columns):\n",
      "children            21525 non-null int64\n",
      "days_employed       19351 non-null float64\n",
      "dob_years           21525 non-null int64\n",
      "education           21525 non-null object\n",
      "education_id        21525 non-null int64\n",
      "family_status       21525 non-null object\n",
      "family_status_id    21525 non-null int64\n",
      "gender              21525 non-null object\n",
      "income_type         21525 non-null object\n",
      "debt                21525 non-null int64\n",
      "total_income        19351 non-null float64\n",
      "purpose             21525 non-null object\n",
      "dtypes: float64(2), int64(5), object(5)\n",
      "memory usage: 2.0+ MB\n",
      "None\n"
     ]
    }
   ],
   "source": [
    "print(data.info())"
   ]
  },
  {
   "cell_type": "code",
   "execution_count": 3,
   "metadata": {
    "scrolled": true
   },
   "outputs": [
    {
     "name": "stdout",
     "output_type": "stream",
     "text": [
      "children               0\n",
      "days_employed       2174\n",
      "dob_years              0\n",
      "education              0\n",
      "education_id           0\n",
      "family_status          0\n",
      "family_status_id       0\n",
      "gender                 0\n",
      "income_type            0\n",
      "debt                   0\n",
      "total_income        2174\n",
      "purpose                0\n",
      "dtype: int64\n"
     ]
    }
   ],
   "source": [
    "print(data.isnull().sum())"
   ]
  },
  {
   "cell_type": "markdown",
   "metadata": {},
   "source": [
    "### Вывод"
   ]
  },
  {
   "cell_type": "markdown",
   "metadata": {},
   "source": [
    "1) содержится 21525 строк, типы данных float64(2), int64(5), object(5).\n",
    "\n",
    "2) метод .info() показал, что среди всех столбцов есть столбцы days_employed и total_income, в которых число ненулевых значений меньше, чем длина таблицы. Т.е. есть либо некорректные значения, либо нулевые значения. Метод .isnull().sum() показал что обозначенные столбцы содержат по 2174 NaN значений (как раз 21525-19351=2174). 2174/21525=0,1. То есть пропущенные значения составляют 10% данных, плюс относятся к категории Пенсионеров. Следовательно удалять значения для стажа не стоит. А значения дохода стоит заменить на среднее или медианное значение.\n",
    "\n",
    "3) столбец days_employed содержит отрицательные значения, что является ошибкой, так как трудовой стаж в днях отрицательным быть не может. Однако есть предположение, что у всех НЕ пенсионеров он отрицательный. стаж пенсионеров измеряется сотнями лет, что некорректно. Возможно эти значения надо перевести в NaN, как уже стоит у некоторых пенсионеров. Значения данного столбца не очень важны для формирования выводов по проекту. Так же присутствуют значения NaN. Также стоит отметить, что стаж должен быть целым числом, следовательно необходимо округлить значения до целого. \n",
    "\n",
    "4) в столбце income_type есть значения госслужащий, которые по сути относятся к занятости \"сотрудник\"\n",
    "\n",
    "5) столбец Образование содержит названия с буквами разных регистров - необходимо все сделать маленькими буквами для обработки."
   ]
  },
  {
   "cell_type": "markdown",
   "metadata": {},
   "source": [
    "### Шаг 2. Предобработка данных"
   ]
  },
  {
   "cell_type": "markdown",
   "metadata": {},
   "source": [
    "### Обработка пропусков"
   ]
  },
  {
   "cell_type": "code",
   "execution_count": 4,
   "metadata": {},
   "outputs": [
    {
     "data": {
      "text/plain": [
       "children               0\n",
       "days_employed       2174\n",
       "dob_years              0\n",
       "education              0\n",
       "education_id           0\n",
       "family_status          0\n",
       "family_status_id       0\n",
       "gender                 0\n",
       "income_type            0\n",
       "debt                   0\n",
       "total_income        2174\n",
       "purpose                0\n",
       "dtype: int64"
      ]
     },
     "execution_count": 4,
     "metadata": {},
     "output_type": "execute_result"
    }
   ],
   "source": [
    "data.isnull().sum()"
   ]
  },
  {
   "cell_type": "markdown",
   "metadata": {},
   "source": [
    "Первым делом по столбцу days_employed видно, что присутствуют огромные значения стажа, относящиеся к пенсионерам. Скорее всего это либо ошибки при вводе данных пенсионерами, либо какой-то сбой.\n",
    "\n",
    "Преобразую отрицательные значения в положительные, а большие некорректные значения для пенсионеров заменю на NaN. После чего пропущенные значения для пенсионеров заполню на среднее значение стажа."
   ]
  },
  {
   "cell_type": "code",
   "execution_count": 5,
   "metadata": {
    "scrolled": true
   },
   "outputs": [
    {
     "name": "stdout",
     "output_type": "stream",
     "text": [
      "2353.0159319988766\n",
      "1630.0193809778216\n",
      "   children  days_employed  dob_years education  education_id  \\\n",
      "0         1    8437.673028         42    высшее             0   \n",
      "1         1    4024.803754         36   среднее             1   \n",
      "2         0    5623.422610         33   Среднее             1   \n",
      "3         3    4124.747207         32   среднее             1   \n",
      "4         0            NaN         53   среднее             1   \n",
      "\n",
      "      family_status  family_status_id gender income_type  debt   total_income  \\\n",
      "0   женат / замужем                 0      F   сотрудник     0  253875.639453   \n",
      "1   женат / замужем                 0      F   сотрудник     0  112080.014102   \n",
      "2   женат / замужем                 0      M   сотрудник     0  145885.952297   \n",
      "3   женат / замужем                 0      M   сотрудник     0  267628.550329   \n",
      "4  гражданский брак                 1      F   пенсионер     0  158616.077870   \n",
      "\n",
      "                      purpose  \n",
      "0               покупка жилья  \n",
      "1     приобретение автомобиля  \n",
      "2               покупка жилья  \n",
      "3  дополнительное образование  \n",
      "4             сыграть свадьбу  \n"
     ]
    }
   ],
   "source": [
    "data['days_employed'] = data['days_employed'] * (-1)\n",
    "data['days_employed'] = data[data['days_employed'] >= 0]['days_employed'] \n",
    "\n",
    "print(data['days_employed'].mean())\n",
    "print(data['days_employed'].median())\n",
    "\n",
    "print(data.head(5))"
   ]
  },
  {
   "cell_type": "markdown",
   "metadata": {},
   "source": [
    "получены среднее и медианное значение для стажа, которые различаются достаточно сильно (2353 и 1630). Я заполняю NaN на среднее, т.к. предполагаю, что стаж у пенсионеров должен быть сильно больше остальных значений и показатель среднее - ближе к их реальному стажу."
   ]
  },
  {
   "cell_type": "code",
   "execution_count": 6,
   "metadata": {
    "scrolled": true
   },
   "outputs": [
    {
     "name": "stdout",
     "output_type": "stream",
     "text": [
      "   children  days_employed  dob_years education  education_id  \\\n",
      "0         1    8437.673028         42    высшее             0   \n",
      "1         1    4024.803754         36   среднее             1   \n",
      "2         0    5623.422610         33   Среднее             1   \n",
      "3         3    4124.747207         32   среднее             1   \n",
      "4         0    2353.015932         53   среднее             1   \n",
      "\n",
      "      family_status  family_status_id gender income_type  debt   total_income  \\\n",
      "0   женат / замужем                 0      F   сотрудник     0  253875.639453   \n",
      "1   женат / замужем                 0      F   сотрудник     0  112080.014102   \n",
      "2   женат / замужем                 0      M   сотрудник     0  145885.952297   \n",
      "3   женат / замужем                 0      M   сотрудник     0  267628.550329   \n",
      "4  гражданский брак                 1      F   пенсионер     0  158616.077870   \n",
      "\n",
      "                      purpose  \n",
      "0               покупка жилья  \n",
      "1     приобретение автомобиля  \n",
      "2               покупка жилья  \n",
      "3  дополнительное образование  \n",
      "4             сыграть свадьбу  \n"
     ]
    }
   ],
   "source": [
    "data['days_employed'] = data['days_employed'].fillna(data['days_employed'].mean())\n",
    "print(data.head(5))"
   ]
  },
  {
   "cell_type": "markdown",
   "metadata": {},
   "source": [
    "Теперь посчитаем среднее и медианное значения для дохода:"
   ]
  },
  {
   "cell_type": "code",
   "execution_count": 7,
   "metadata": {},
   "outputs": [
    {
     "name": "stdout",
     "output_type": "stream",
     "text": [
      "167422.30220817294\n",
      "145017.93753253992\n"
     ]
    }
   ],
   "source": [
    "print(data['total_income'].mean())\n",
    "print(data['total_income'].median())"
   ]
  },
  {
   "cell_type": "markdown",
   "metadata": {},
   "source": [
    "Они отличаюся на 15%, но я возьму медианное, т.к. низких и средних доходов всегда больше по количеству, чем больших (которые вносят сильное влияние, повышая среднее значение)"
   ]
  },
  {
   "cell_type": "code",
   "execution_count": 8,
   "metadata": {
    "scrolled": true
   },
   "outputs": [
    {
     "name": "stdout",
     "output_type": "stream",
     "text": [
      "   children  days_employed  dob_years education  education_id  \\\n",
      "0         1    8437.673028         42    высшее             0   \n",
      "1         1    4024.803754         36   среднее             1   \n",
      "2         0    5623.422610         33   Среднее             1   \n",
      "3         3    4124.747207         32   среднее             1   \n",
      "4         0    2353.015932         53   среднее             1   \n",
      "\n",
      "      family_status  family_status_id gender income_type  debt   total_income  \\\n",
      "0   женат / замужем                 0      F   сотрудник     0  253875.639453   \n",
      "1   женат / замужем                 0      F   сотрудник     0  112080.014102   \n",
      "2   женат / замужем                 0      M   сотрудник     0  145885.952297   \n",
      "3   женат / замужем                 0      M   сотрудник     0  267628.550329   \n",
      "4  гражданский брак                 1      F   пенсионер     0  158616.077870   \n",
      "\n",
      "                      purpose  \n",
      "0               покупка жилья  \n",
      "1     приобретение автомобиля  \n",
      "2               покупка жилья  \n",
      "3  дополнительное образование  \n",
      "4             сыграть свадьбу  \n"
     ]
    }
   ],
   "source": [
    "data['total_income'] = data['total_income'].fillna(data['total_income'].mean())\n",
    "print(data.head(5))"
   ]
  },
  {
   "cell_type": "code",
   "execution_count": 9,
   "metadata": {
    "scrolled": false
   },
   "outputs": [
    {
     "data": {
      "text/plain": [
       "children            0\n",
       "days_employed       0\n",
       "dob_years           0\n",
       "education           0\n",
       "education_id        0\n",
       "family_status       0\n",
       "family_status_id    0\n",
       "gender              0\n",
       "income_type         0\n",
       "debt                0\n",
       "total_income        0\n",
       "purpose             0\n",
       "dtype: int64"
      ]
     },
     "execution_count": 9,
     "metadata": {},
     "output_type": "execute_result"
    }
   ],
   "source": [
    "data.isnull().sum()"
   ]
  },
  {
   "cell_type": "markdown",
   "metadata": {},
   "source": [
    "### Вывод"
   ]
  },
  {
   "cell_type": "markdown",
   "metadata": {},
   "source": [
    "1) Столбец стаж был сделан положительным значением, \n",
    "\n",
    "2) была произведена замена стажа для пенсионеров на среднее значение\n",
    "\n",
    "3) пропущенные значения в столбце доходов заменены на медианные"
   ]
  },
  {
   "cell_type": "markdown",
   "metadata": {},
   "source": [
    "### Замена типа данных"
   ]
  },
  {
   "cell_type": "markdown",
   "metadata": {},
   "source": [
    "Проверим таблицу на предмет того какие в ней содержатся типы данных:"
   ]
  },
  {
   "cell_type": "code",
   "execution_count": 10,
   "metadata": {},
   "outputs": [
    {
     "name": "stdout",
     "output_type": "stream",
     "text": [
      "<class 'pandas.core.frame.DataFrame'>\n",
      "RangeIndex: 21525 entries, 0 to 21524\n",
      "Data columns (total 12 columns):\n",
      "children            21525 non-null int64\n",
      "days_employed       21525 non-null float64\n",
      "dob_years           21525 non-null int64\n",
      "education           21525 non-null object\n",
      "education_id        21525 non-null int64\n",
      "family_status       21525 non-null object\n",
      "family_status_id    21525 non-null int64\n",
      "gender              21525 non-null object\n",
      "income_type         21525 non-null object\n",
      "debt                21525 non-null int64\n",
      "total_income        21525 non-null float64\n",
      "purpose             21525 non-null object\n",
      "dtypes: float64(2), int64(5), object(5)\n",
      "memory usage: 2.0+ MB\n"
     ]
    }
   ],
   "source": [
    "data.info()"
   ]
  },
  {
   "cell_type": "markdown",
   "metadata": {},
   "source": [
    "Видно, что столбцы образование, семейное положение, пол, тип занятости и цель кредита - строковый тип. Остальные столбцы числовые. Необходимо заменить тип float на integer для столбцов days_employed и total_income, так как трудовой стаж в днях не может быть дробным числом, а копейки в столбце total_income не являются важным уточнением."
   ]
  },
  {
   "cell_type": "code",
   "execution_count": 11,
   "metadata": {
    "scrolled": true
   },
   "outputs": [
    {
     "name": "stdout",
     "output_type": "stream",
     "text": [
      "   children  days_employed  dob_years education  education_id  \\\n",
      "0         1           8437         42    высшее             0   \n",
      "1         1           4024         36   среднее             1   \n",
      "2         0           5623         33   Среднее             1   \n",
      "3         3           4124         32   среднее             1   \n",
      "4         0           2353         53   среднее             1   \n",
      "5         0            926         27    высшее             0   \n",
      "6         0           2879         43    высшее             0   \n",
      "7         0            152         50   СРЕДНЕЕ             1   \n",
      "8         2           6929         35    ВЫСШЕЕ             0   \n",
      "9         0           2188         41   среднее             1   \n",
      "\n",
      "      family_status  family_status_id gender income_type  debt  total_income  \\\n",
      "0   женат / замужем                 0      F   сотрудник     0        253875   \n",
      "1   женат / замужем                 0      F   сотрудник     0        112080   \n",
      "2   женат / замужем                 0      M   сотрудник     0        145885   \n",
      "3   женат / замужем                 0      M   сотрудник     0        267628   \n",
      "4  гражданский брак                 1      F   пенсионер     0        158616   \n",
      "5  гражданский брак                 1      M   компаньон     0        255763   \n",
      "6   женат / замужем                 0      F   компаньон     0        240525   \n",
      "7   женат / замужем                 0      M   сотрудник     0        135823   \n",
      "8  гражданский брак                 1      F   сотрудник     0         95856   \n",
      "9   женат / замужем                 0      M   сотрудник     0        144425   \n",
      "\n",
      "                      purpose  \n",
      "0               покупка жилья  \n",
      "1     приобретение автомобиля  \n",
      "2               покупка жилья  \n",
      "3  дополнительное образование  \n",
      "4             сыграть свадьбу  \n",
      "5               покупка жилья  \n",
      "6           операции с жильем  \n",
      "7                 образование  \n",
      "8       на проведение свадьбы  \n",
      "9     покупка жилья для семьи  \n"
     ]
    }
   ],
   "source": [
    "data['total_income'] = data['total_income'].astype('int')\n",
    "data['days_employed'] = data['days_employed'].astype('int')\n",
    "print(data.head(10))"
   ]
  },
  {
   "cell_type": "code",
   "execution_count": 12,
   "metadata": {},
   "outputs": [
    {
     "name": "stdout",
     "output_type": "stream",
     "text": [
      "<class 'pandas.core.frame.DataFrame'>\n",
      "RangeIndex: 21525 entries, 0 to 21524\n",
      "Data columns (total 12 columns):\n",
      "children            21525 non-null int64\n",
      "days_employed       21525 non-null int64\n",
      "dob_years           21525 non-null int64\n",
      "education           21525 non-null object\n",
      "education_id        21525 non-null int64\n",
      "family_status       21525 non-null object\n",
      "family_status_id    21525 non-null int64\n",
      "gender              21525 non-null object\n",
      "income_type         21525 non-null object\n",
      "debt                21525 non-null int64\n",
      "total_income        21525 non-null int64\n",
      "purpose             21525 non-null object\n",
      "dtypes: int64(7), object(5)\n",
      "memory usage: 2.0+ MB\n"
     ]
    }
   ],
   "source": [
    "data.info()"
   ]
  },
  {
   "cell_type": "markdown",
   "metadata": {},
   "source": [
    "### Вывод"
   ]
  },
  {
   "cell_type": "markdown",
   "metadata": {},
   "source": [
    "Столбцы стажа и доходов сделаны целочисленными."
   ]
  },
  {
   "cell_type": "markdown",
   "metadata": {},
   "source": [
    "### Обработка дубликатов"
   ]
  },
  {
   "cell_type": "markdown",
   "metadata": {},
   "source": [
    "Первым делом проверим грубые прямые дубликаты строк в таблице:"
   ]
  },
  {
   "cell_type": "code",
   "execution_count": 13,
   "metadata": {},
   "outputs": [
    {
     "data": {
      "text/plain": [
       "54"
      ]
     },
     "execution_count": 13,
     "metadata": {},
     "output_type": "execute_result"
    }
   ],
   "source": [
    "data.duplicated().sum()"
   ]
  },
  {
   "cell_type": "markdown",
   "metadata": {},
   "source": [
    "Их оказалось 54. заменим с помощью data.drop_duplicates().reset_index(drop=True):"
   ]
  },
  {
   "cell_type": "code",
   "execution_count": 14,
   "metadata": {},
   "outputs": [
    {
     "data": {
      "text/plain": [
       "0"
      ]
     },
     "execution_count": 14,
     "metadata": {},
     "output_type": "execute_result"
    }
   ],
   "source": [
    "data = data.drop_duplicates().reset_index(drop=True)\n",
    "data.duplicated().sum()"
   ]
  },
  {
   "cell_type": "markdown",
   "metadata": {},
   "source": [
    "Теперь их ноль. Далее проверим виды и количество значений в столбце education: "
   ]
  },
  {
   "cell_type": "code",
   "execution_count": 15,
   "metadata": {
    "scrolled": true
   },
   "outputs": [
    {
     "data": {
      "text/plain": [
       "среднее                13705\n",
       "высшее                  4710\n",
       "СРЕДНЕЕ                  772\n",
       "Среднее                  711\n",
       "неоконченное высшее      668\n",
       "ВЫСШЕЕ                   273\n",
       "Высшее                   268\n",
       "начальное                250\n",
       "Неоконченное высшее       47\n",
       "НЕОКОНЧЕННОЕ ВЫСШЕЕ       29\n",
       "НАЧАЛЬНОЕ                 17\n",
       "Начальное                 15\n",
       "ученая степень             4\n",
       "Ученая степень             1\n",
       "УЧЕНАЯ СТЕПЕНЬ             1\n",
       "Name: education, dtype: int64"
      ]
     },
     "execution_count": 15,
     "metadata": {},
     "output_type": "execute_result"
    }
   ],
   "source": [
    "data['education'].value_counts()"
   ]
  },
  {
   "cell_type": "markdown",
   "metadata": {},
   "source": [
    "Видно, что есть повторения из-за букв в разном регистре, так что надо от этого избавиться с помощью str.lower(). После проверим value_counts()"
   ]
  },
  {
   "cell_type": "code",
   "execution_count": 16,
   "metadata": {
    "scrolled": true
   },
   "outputs": [
    {
     "data": {
      "text/plain": [
       "среднее                15188\n",
       "высшее                  5251\n",
       "неоконченное высшее      744\n",
       "начальное                282\n",
       "ученая степень             6\n",
       "Name: education, dtype: int64"
      ]
     },
     "execution_count": 16,
     "metadata": {},
     "output_type": "execute_result"
    }
   ],
   "source": [
    "data['education'] = data['education'].str.lower()\n",
    "data['education'].value_counts()"
   ]
  },
  {
   "cell_type": "markdown",
   "metadata": {},
   "source": [
    "Аналогично проверим для других столбцов строкового типа: family_status, income_type, purpose"
   ]
  },
  {
   "cell_type": "code",
   "execution_count": 17,
   "metadata": {
    "scrolled": true
   },
   "outputs": [
    {
     "data": {
      "text/plain": [
       "женат / замужем          12344\n",
       "гражданский брак          4163\n",
       "Не женат / не замужем     2810\n",
       "в разводе                 1195\n",
       "вдовец / вдова             959\n",
       "Name: family_status, dtype: int64"
      ]
     },
     "execution_count": 17,
     "metadata": {},
     "output_type": "execute_result"
    }
   ],
   "source": [
    "data['family_status'].value_counts()"
   ]
  },
  {
   "cell_type": "markdown",
   "metadata": {},
   "source": [
    "со значениями все в порядке в отношении регистров и дубликатов, однако по смыслу есть некорректность. человек в разводе, вдовец\\вдова, а также гражданский брак, по букве закона являются неженатыми или незамужними людьми, то есть необходимо поменять некоторые категории."
   ]
  },
  {
   "cell_type": "code",
   "execution_count": 18,
   "metadata": {},
   "outputs": [
    {
     "data": {
      "text/plain": [
       "женат / замужем          12344\n",
       "не женат / не замужем     9127\n",
       "Name: family_status, dtype: int64"
      ]
     },
     "execution_count": 18,
     "metadata": {},
     "output_type": "execute_result"
    }
   ],
   "source": [
    "data['family_status'] = data['family_status'].str.lower()\n",
    "data.loc[data['family_status'] == 'вдовец / вдова', 'family_status'] = 'не женат / не замужем'\n",
    "data.loc[data['family_status'] == 'в разводе', 'family_status'] = 'не женат / не замужем'\n",
    "data.loc[data['family_status'] == 'гражданский брак', 'family_status'] = 'не женат / не замужем'\n",
    "data['family_status'].value_counts()"
   ]
  },
  {
   "cell_type": "code",
   "execution_count": 19,
   "metadata": {
    "scrolled": true
   },
   "outputs": [
    {
     "data": {
      "text/plain": [
       "сотрудник          11091\n",
       "компаньон           5080\n",
       "пенсионер           3837\n",
       "госслужащий         1457\n",
       "предприниматель        2\n",
       "безработный            2\n",
       "в декрете              1\n",
       "студент                1\n",
       "Name: income_type, dtype: int64"
      ]
     },
     "execution_count": 19,
     "metadata": {},
     "output_type": "execute_result"
    }
   ],
   "source": [
    "data['income_type'].value_counts()"
   ]
  },
  {
   "cell_type": "markdown",
   "metadata": {},
   "source": [
    "Есть смысловые повторы: госслужащий - сотрудник гос.организации, компаньон - он же предприниматель; студент - безработный, однако их всего 3; в декрете - сотрудник фирмы, находящийся в декрете, так что значения необходимо поменять:"
   ]
  },
  {
   "cell_type": "code",
   "execution_count": 20,
   "metadata": {
    "scrolled": true
   },
   "outputs": [
    {
     "data": {
      "text/plain": [
       "сотрудник      12549\n",
       "компаньон       5082\n",
       "пенсионер       3837\n",
       "безработный        3\n",
       "Name: income_type, dtype: int64"
      ]
     },
     "execution_count": 20,
     "metadata": {},
     "output_type": "execute_result"
    }
   ],
   "source": [
    "data.loc[data['income_type'] == 'госслужащий', 'income_type'] = 'сотрудник'\n",
    "data.loc[data['income_type'] == 'в декрете', 'income_type'] = 'сотрудник'\n",
    "data.loc[data['income_type'] == 'предприниматель', 'income_type'] = 'компаньон'\n",
    "data.loc[data['income_type'] == 'студент', 'income_type'] = 'безработный'\n",
    "data['income_type'].value_counts()"
   ]
  },
  {
   "cell_type": "code",
   "execution_count": 21,
   "metadata": {
    "scrolled": true
   },
   "outputs": [
    {
     "data": {
      "text/plain": [
       "свадьба                                   793\n",
       "на проведение свадьбы                     773\n",
       "сыграть свадьбу                           769\n",
       "операции с недвижимостью                  675\n",
       "покупка коммерческой недвижимости         662\n",
       "покупка жилья для сдачи                   652\n",
       "операции с жильем                         652\n",
       "операции с коммерческой недвижимостью     650\n",
       "жилье                                     646\n",
       "покупка жилья                             646\n",
       "покупка жилья для семьи                   638\n",
       "строительство собственной недвижимости    635\n",
       "недвижимость                              633\n",
       "операции со своей недвижимостью           627\n",
       "строительство жилой недвижимости          625\n",
       "покупка недвижимости                      621\n",
       "покупка своего жилья                      620\n",
       "строительство недвижимости                619\n",
       "ремонт жилью                              607\n",
       "покупка жилой недвижимости                606\n",
       "на покупку своего автомобиля              505\n",
       "заняться высшим образованием              496\n",
       "автомобиль                                494\n",
       "сделка с подержанным автомобилем          486\n",
       "свой автомобиль                           479\n",
       "автомобили                                478\n",
       "на покупку подержанного автомобиля        478\n",
       "на покупку автомобиля                     472\n",
       "приобретение автомобиля                   461\n",
       "дополнительное образование                460\n",
       "сделка с автомобилем                      455\n",
       "высшее образование                        452\n",
       "получение дополнительного образования     447\n",
       "образование                               447\n",
       "получение образования                     442\n",
       "профильное образование                    436\n",
       "получение высшего образования             426\n",
       "заняться образованием                     408\n",
       "Name: purpose, dtype: int64"
      ]
     },
     "execution_count": 21,
     "metadata": {},
     "output_type": "execute_result"
    }
   ],
   "source": [
    "data['purpose'].value_counts()"
   ]
  },
  {
   "cell_type": "markdown",
   "metadata": {},
   "source": [
    "разбор этого столбца необходимо производить с помощью лемматизации, так как есть много похожих выражений."
   ]
  },
  {
   "cell_type": "markdown",
   "metadata": {},
   "source": [
    "проверим также:"
   ]
  },
  {
   "cell_type": "code",
   "execution_count": 22,
   "metadata": {
    "scrolled": false
   },
   "outputs": [
    {
     "data": {
      "text/plain": [
       " 0     14107\n",
       " 1      4809\n",
       " 2      2052\n",
       " 3       330\n",
       " 20       76\n",
       "-1        47\n",
       " 4        41\n",
       " 5         9\n",
       "Name: children, dtype: int64"
      ]
     },
     "execution_count": 22,
     "metadata": {},
     "output_type": "execute_result"
    }
   ],
   "source": [
    "data['children'].value_counts()"
   ]
  },
  {
   "cell_type": "markdown",
   "metadata": {},
   "source": [
    "Есть два странных значения — -1 и 20. Скорее всего оба - опечатки. заменим -1 на 1 и 20 на 2"
   ]
  },
  {
   "cell_type": "code",
   "execution_count": 23,
   "metadata": {},
   "outputs": [
    {
     "data": {
      "text/plain": [
       "0    14107\n",
       "1     4856\n",
       "2     2128\n",
       "3      330\n",
       "4       41\n",
       "5        9\n",
       "Name: children, dtype: int64"
      ]
     },
     "execution_count": 23,
     "metadata": {},
     "output_type": "execute_result"
    }
   ],
   "source": [
    "data.loc[data['children'] == -1, 'children'] = 1\n",
    "data.loc[data['children'] == 20, 'children'] = 2\n",
    "data['children'].value_counts()"
   ]
  },
  {
   "cell_type": "code",
   "execution_count": 24,
   "metadata": {
    "scrolled": true
   },
   "outputs": [
    {
     "data": {
      "text/plain": [
       "35    616\n",
       "40    607\n",
       "41    606\n",
       "34    601\n",
       "38    597\n",
       "42    596\n",
       "33    581\n",
       "39    572\n",
       "31    559\n",
       "36    554\n",
       "44    545\n",
       "29    544\n",
       "30    538\n",
       "48    537\n",
       "37    536\n",
       "50    513\n",
       "43    512\n",
       "32    509\n",
       "49    508\n",
       "28    503\n",
       "45    497\n",
       "27    493\n",
       "56    484\n",
       "52    484\n",
       "47    477\n",
       "54    476\n",
       "46    473\n",
       "53    459\n",
       "57    456\n",
       "58    456\n",
       "51    448\n",
       "55    443\n",
       "59    443\n",
       "26    408\n",
       "60    374\n",
       "25    357\n",
       "61    354\n",
       "62    349\n",
       "63    269\n",
       "24    264\n",
       "64    262\n",
       "23    253\n",
       "65    194\n",
       "22    183\n",
       "66    182\n",
       "67    167\n",
       "21    111\n",
       "0     101\n",
       "68     99\n",
       "69     85\n",
       "70     65\n",
       "71     58\n",
       "20     51\n",
       "72     33\n",
       "19     14\n",
       "73      8\n",
       "74      6\n",
       "75      1\n",
       "Name: dob_years, dtype: int64"
      ]
     },
     "execution_count": 24,
     "metadata": {},
     "output_type": "execute_result"
    }
   ],
   "source": [
    "data['dob_years'].value_counts()"
   ]
  },
  {
   "cell_type": "markdown",
   "metadata": {},
   "source": [
    "встречается значение \"0\" 101 раз, сюда входят несколько человек, относящиеся к безработным и к студентам, однако этих значений значительно больше. Возможно люди не хотели указывать свой стаж и ставили 0. Заменим на среднее значение стажа по столбцу, округленное до целых."
   ]
  },
  {
   "cell_type": "code",
   "execution_count": 25,
   "metadata": {},
   "outputs": [
    {
     "data": {
      "text/plain": [
       "43.279074099948765"
      ]
     },
     "execution_count": 25,
     "metadata": {},
     "output_type": "execute_result"
    }
   ],
   "source": [
    "data['dob_years'].mean()"
   ]
  },
  {
   "cell_type": "code",
   "execution_count": 26,
   "metadata": {
    "scrolled": true
   },
   "outputs": [
    {
     "data": {
      "text/plain": [
       "35    616\n",
       "43    613\n",
       "40    607\n",
       "41    606\n",
       "34    601\n",
       "38    597\n",
       "42    596\n",
       "33    581\n",
       "39    572\n",
       "31    559\n",
       "36    554\n",
       "44    545\n",
       "29    544\n",
       "30    538\n",
       "48    537\n",
       "37    536\n",
       "50    513\n",
       "32    509\n",
       "49    508\n",
       "28    503\n",
       "45    497\n",
       "27    493\n",
       "52    484\n",
       "56    484\n",
       "47    477\n",
       "54    476\n",
       "46    473\n",
       "53    459\n",
       "57    456\n",
       "58    456\n",
       "51    448\n",
       "55    443\n",
       "59    443\n",
       "26    408\n",
       "60    374\n",
       "25    357\n",
       "61    354\n",
       "62    349\n",
       "63    269\n",
       "24    264\n",
       "64    262\n",
       "23    253\n",
       "65    194\n",
       "22    183\n",
       "66    182\n",
       "67    167\n",
       "21    111\n",
       "68     99\n",
       "69     85\n",
       "70     65\n",
       "71     58\n",
       "20     51\n",
       "72     33\n",
       "19     14\n",
       "73      8\n",
       "74      6\n",
       "75      1\n",
       "Name: dob_years, dtype: int64"
      ]
     },
     "execution_count": 26,
     "metadata": {},
     "output_type": "execute_result"
    }
   ],
   "source": [
    "data.loc[data['dob_years'] == 0, 'dob_years'] = 43\n",
    "data['dob_years'].value_counts()"
   ]
  },
  {
   "cell_type": "code",
   "execution_count": 27,
   "metadata": {
    "scrolled": true
   },
   "outputs": [
    {
     "data": {
      "text/plain": [
       "1    15188\n",
       "0     5251\n",
       "2      744\n",
       "3      282\n",
       "4        6\n",
       "Name: education_id, dtype: int64"
      ]
     },
     "execution_count": 27,
     "metadata": {},
     "output_type": "execute_result"
    }
   ],
   "source": [
    "data['education_id'].value_counts()"
   ]
  },
  {
   "cell_type": "markdown",
   "metadata": {},
   "source": [
    "1   среднее\n",
    "\n",
    "0   высшее\n",
    "\n",
    "2   неок высш\n",
    "\n",
    "3   начальное\n",
    "\n",
    "4   ученая степень\n",
    "\n",
    "Значения совпадают с образованием в столбце education"
   ]
  },
  {
   "cell_type": "code",
   "execution_count": 28,
   "metadata": {
    "scrolled": true
   },
   "outputs": [
    {
     "data": {
      "text/plain": [
       "0    12344\n",
       "1     4163\n",
       "4     2810\n",
       "3     1195\n",
       "2      959\n",
       "Name: family_status_id, dtype: int64"
      ]
     },
     "execution_count": 28,
     "metadata": {},
     "output_type": "execute_result"
    }
   ],
   "source": [
    "data['family_status_id'].value_counts()"
   ]
  },
  {
   "cell_type": "markdown",
   "metadata": {},
   "source": [
    "столбец \"семейное положение\" был переделан, так что индексы family_status_id тоже надо поменять\n",
    "\n",
    "0    женат / замужем\n",
    "\n",
    "1    не женат / не замужем\n",
    "\n",
    "4    не женат / не замужем\n",
    "\n",
    "3    не женат / не замужем\n",
    "\n",
    "2    не женат / не замужем\n",
    "\n",
    "Также выше видно, что индексы проставлены ошибочно, значения 4 3 и 2 должны быть равны 1"
   ]
  },
  {
   "cell_type": "code",
   "execution_count": 29,
   "metadata": {},
   "outputs": [
    {
     "data": {
      "text/plain": [
       "0    12344\n",
       "1     9127\n",
       "Name: family_status_id, dtype: int64"
      ]
     },
     "execution_count": 29,
     "metadata": {},
     "output_type": "execute_result"
    }
   ],
   "source": [
    "data.loc[data['family_status_id'] == 4, 'family_status_id'] = 1\n",
    "data.loc[data['family_status_id'] == 3, 'family_status_id'] = 1\n",
    "data.loc[data['family_status_id'] == 2, 'family_status_id'] = 1\n",
    "data['family_status_id'].value_counts()"
   ]
  },
  {
   "cell_type": "code",
   "execution_count": 30,
   "metadata": {
    "scrolled": true
   },
   "outputs": [
    {
     "data": {
      "text/plain": [
       "F      14189\n",
       "M       7281\n",
       "XNA        1\n",
       "Name: gender, dtype: int64"
      ]
     },
     "execution_count": 30,
     "metadata": {},
     "output_type": "execute_result"
    }
   ],
   "source": [
    "data['gender'].value_counts()"
   ]
  },
  {
   "cell_type": "markdown",
   "metadata": {},
   "source": [
    "появлилось ошибочное значение XNA, возможно ввели ошибку или специально не указали. На что заменить непонятно, добавим к женщинам (к менее многочисленной группе)"
   ]
  },
  {
   "cell_type": "code",
   "execution_count": 31,
   "metadata": {},
   "outputs": [
    {
     "data": {
      "text/plain": [
       "F    14190\n",
       "M     7281\n",
       "Name: gender, dtype: int64"
      ]
     },
     "execution_count": 31,
     "metadata": {},
     "output_type": "execute_result"
    }
   ],
   "source": [
    "data.loc[data['gender'] == 'XNA', 'gender'] = 'F'\n",
    "data['gender'].value_counts()"
   ]
  },
  {
   "cell_type": "code",
   "execution_count": 32,
   "metadata": {
    "scrolled": true
   },
   "outputs": [
    {
     "data": {
      "text/plain": [
       "0    19730\n",
       "1     1741\n",
       "Name: debt, dtype: int64"
      ]
     },
     "execution_count": 32,
     "metadata": {},
     "output_type": "execute_result"
    }
   ],
   "source": [
    "data['debt'].value_counts()"
   ]
  },
  {
   "cell_type": "markdown",
   "metadata": {},
   "source": [
    "все в порядке"
   ]
  },
  {
   "cell_type": "markdown",
   "metadata": {},
   "source": [
    "### Вывод"
   ]
  },
  {
   "cell_type": "markdown",
   "metadata": {},
   "source": [
    "Были удалены основные дубликаты, как прямые (грубые) дубликаты целых строк, так и смысловые дубликаты, сбитые значения индексов и т.п. Вероятнее всего все эти дубликаты появлялись из-за невнимательностей или ошибок пользователей, либо они специально указывали ложные данные."
   ]
  },
  {
   "cell_type": "markdown",
   "metadata": {},
   "source": [
    "### Лемматизация"
   ]
  },
  {
   "cell_type": "code",
   "execution_count": 33,
   "metadata": {},
   "outputs": [
    {
     "name": "stdout",
     "output_type": "stream",
     "text": [
      "Counter({' ': 55066, 'недвижимость': 6353, 'покупка': 5900, 'жилье': 4461, 'автомобиль': 4308, 'образование': 4014, 'с': 2918, 'операция': 2604, 'свадьба': 2335, 'свой': 2231, 'на': 2228, 'строительство': 1879, 'высокий': 1374, 'получение': 1315, 'коммерческий': 1312, 'для': 1290, 'жилой': 1231, 'сделка': 941, 'дополнительный': 907, 'заниматься': 904, 'подержать': 853, 'проведение': 773, 'сыграть': 769, 'сдача': 652, 'семья': 638, 'собственный': 635, 'со': 627, 'ремонт': 607, 'приобретение': 461, 'профильный': 436, 'подержанный': 111, '\\n': 1})\n"
     ]
    }
   ],
   "source": [
    "from pymystem3 import Mystem\n",
    "m = Mystem()\n",
    "text = ' '.join(data.purpose)\n",
    "lemmas = m.lemmatize(text)\n",
    "#print(lemmas)\n",
    "from collections import Counter\n",
    "print(Counter(lemmas))\n",
    "data['lemmas'] = data['purpose'].apply(m.lemmatize)"
   ]
  },
  {
   "cell_type": "markdown",
   "metadata": {},
   "source": [
    "### Вывод"
   ]
  },
  {
   "cell_type": "markdown",
   "metadata": {},
   "source": [
    "С помощью библиотеки pymestem3 были определены леммы в целях кредитов, где видно следующее:\n",
    "\n",
    "1) выделяются категории, связанные с: недвижимостью, автомобилем, образованием, свадьбой\n",
    "\n",
    "2) остальные леммы являются дополнительными словами в цели кредита\n",
    "\n",
    "3) категория жильё относится к недвижимости"
   ]
  },
  {
   "cell_type": "markdown",
   "metadata": {},
   "source": [
    "### Категоризация данных"
   ]
  },
  {
   "cell_type": "code",
   "execution_count": 34,
   "metadata": {},
   "outputs": [
    {
     "name": "stdout",
     "output_type": "stream",
     "text": [
      "21471\n",
      "[автомобиль, \\n]                                          972\n",
      "[свадьба, \\n]                                             793\n",
      "[на,  , проведение,  , свадьба, \\n]                       773\n",
      "[сыграть,  , свадьба, \\n]                                 769\n",
      "[операция,  , с,  , недвижимость, \\n]                     675\n",
      "[покупка,  , коммерческий,  , недвижимость, \\n]           662\n",
      "[операция,  , с,  , жилье, \\n]                            652\n",
      "[покупка,  , жилье,  , для,  , сдача, \\n]                 652\n",
      "[операция,  , с,  , коммерческий,  , недвижимость, \\n]    650\n",
      "[покупка,  , жилье, \\n]                                   646\n",
      "[жилье, \\n]                                               646\n",
      "[покупка,  , жилье,  , для,  , семья, \\n]                 638\n",
      "[строительство,  , собственный,  , недвижимость, \\n]      635\n",
      "[недвижимость, \\n]                                        633\n",
      "[операция,  , со,  , свой,  , недвижимость, \\n]           627\n",
      "[строительство,  , жилой,  , недвижимость, \\n]            625\n",
      "[покупка,  , недвижимость, \\n]                            621\n",
      "[покупка,  , свой,  , жилье, \\n]                          620\n",
      "[строительство,  , недвижимость, \\n]                      619\n",
      "[ремонт,  , жилье, \\n]                                    607\n",
      "[покупка,  , жилой,  , недвижимость, \\n]                  606\n",
      "[на,  , покупка,  , свой,  , автомобиль, \\n]              505\n",
      "[заниматься,  , высокий,  , образование, \\n]              496\n",
      "[сделка,  , с,  , подержанный,  , автомобиль, \\n]         486\n",
      "[свой,  , автомобиль, \\n]                                 479\n",
      "[на,  , покупка,  , подержать,  , автомобиль, \\n]         478\n",
      "[на,  , покупка,  , автомобиль, \\n]                       472\n",
      "[приобретение,  , автомобиль, \\n]                         461\n",
      "[дополнительный,  , образование, \\n]                      460\n",
      "[сделка,  , с,  , автомобиль, \\n]                         455\n",
      "[высокий,  , образование, \\n]                             452\n",
      "[получение,  , дополнительный,  , образование, \\n]        447\n",
      "[образование, \\n]                                         447\n",
      "[получение,  , образование, \\n]                           442\n",
      "[профильный,  , образование, \\n]                          436\n",
      "[получение,  , высокий,  , образование, \\n]               426\n",
      "[заниматься,  , образование, \\n]                          408\n",
      "Name: lemmas, dtype: int64\n"
     ]
    }
   ],
   "source": [
    "print(data['lemmas'].value_counts().sum())\n",
    "print(data['lemmas'].value_counts())\n"
   ]
  },
  {
   "cell_type": "markdown",
   "metadata": {},
   "source": [
    "необходимо категоризовать данные по следующим категориям:\n",
    "1) по наличию детей\n",
    "2) по семейному положению\n",
    "3) по уровню дохода\n",
    "4) по целям кредита"
   ]
  },
  {
   "cell_type": "code",
   "execution_count": 35,
   "metadata": {
    "scrolled": true
   },
   "outputs": [
    {
     "data": {
      "text/plain": [
       "ноль            14107\n",
       "один             4856\n",
       "два              2128\n",
       "три               330\n",
       "четыре             41\n",
       "пять и более        9\n",
       "Name: children_group, dtype: int64"
      ]
     },
     "execution_count": 35,
     "metadata": {},
     "output_type": "execute_result"
    }
   ],
   "source": [
    "def children_group(row):\n",
    "    child = row['children']\n",
    "    if child == 0:\n",
    "        return 'ноль'\n",
    "    if child == 1:\n",
    "        return 'один'\n",
    "    if child == 2:\n",
    "        return 'два'\n",
    "    if child == 3:\n",
    "        return 'три'\n",
    "    if child == 4:\n",
    "        return 'четыре'\n",
    "    return 'пять и более'\n",
    "\n",
    "data['children_group'] = data.apply(children_group, axis=1)\n",
    "data['children_group'].value_counts()"
   ]
  },
  {
   "cell_type": "markdown",
   "metadata": {},
   "source": [
    "Добавлен столбец с категорией по количеству детей"
   ]
  },
  {
   "cell_type": "code",
   "execution_count": 36,
   "metadata": {
    "scrolled": true
   },
   "outputs": [
    {
     "name": "stdout",
     "output_type": "stream",
     "text": [
      "женат / замужем          12344\n",
      "не женат / не замужем     9127\n",
      "Name: family_status, dtype: int64\n"
     ]
    },
    {
     "data": {
      "text/plain": [
       "женат / замужем          12344\n",
       "не женат / не замужем     9127\n",
       "Name: family_status_group, dtype: int64"
      ]
     },
     "execution_count": 36,
     "metadata": {},
     "output_type": "execute_result"
    }
   ],
   "source": [
    "print(data['family_status'].value_counts())\n",
    "def group_by_famstatus(row):\n",
    "    status = row['family_status']\n",
    "    if 'женат / замужем' in status:\n",
    "        return 'женат / замужем'\n",
    "    return 'не женат / не замужем'\n",
    "data['family_status_group'] = data.apply(group_by_famstatus, axis=1)\n",
    "data['family_status_group'].value_counts()"
   ]
  },
  {
   "cell_type": "markdown",
   "metadata": {},
   "source": [
    "добавлен столбец с группой по семейному положению"
   ]
  },
  {
   "cell_type": "code",
   "execution_count": 37,
   "metadata": {
    "scrolled": true
   },
   "outputs": [
    {
     "data": {
      "text/plain": [
       "ниже медианного    10736\n",
       "выше медианного    10735\n",
       "Name: income_group, dtype: int64"
      ]
     },
     "execution_count": 37,
     "metadata": {},
     "output_type": "execute_result"
    }
   ],
   "source": [
    "def group_by_income(row):\n",
    "    income = row['total_income']\n",
    "    if income < data['total_income'].median():\n",
    "        return 'выше медианного'\n",
    "    return 'ниже медианного'\n",
    "data['income_group'] = data.apply(group_by_income, axis=1)\n",
    "data['income_group'].value_counts()    "
   ]
  },
  {
   "cell_type": "markdown",
   "metadata": {},
   "source": [
    "добавлен столбец с категорией по уровню дохода выше и ниже медианного"
   ]
  },
  {
   "cell_type": "code",
   "execution_count": 38,
   "metadata": {
    "scrolled": true
   },
   "outputs": [
    {
     "data": {
      "text/plain": [
       "покупка недвижимости     10814\n",
       "покупка автомобиля        4308\n",
       "получение образования     4014\n",
       "свадьба                   2335\n",
       "Name: lemmas_group, dtype: int64"
      ]
     },
     "execution_count": 38,
     "metadata": {},
     "output_type": "execute_result"
    }
   ],
   "source": [
    "def group_by_lemmas(row):\n",
    "    text = row['lemmas']\n",
    "    if 'автомобиль' in text:\n",
    "        return 'покупка автомобиля'\n",
    "    if 'образование' in text:\n",
    "        return 'получение образования'\n",
    "    if 'недвижимость' in text or 'жилье' in text or 'ремонт' in text:\n",
    "        return 'покупка недвижимости'\n",
    "    if 'свадьба' in text:\n",
    "        return 'свадьба'\n",
    "data['lemmas_group'] = data.apply(group_by_lemmas, axis=1)\n",
    "data['lemmas_group'].value_counts()"
   ]
  },
  {
   "cell_type": "markdown",
   "metadata": {},
   "source": [
    "добавлен столбец с категорией по цели кредита"
   ]
  },
  {
   "cell_type": "code",
   "execution_count": 39,
   "metadata": {
    "scrolled": true
   },
   "outputs": [
    {
     "name": "stdout",
     "output_type": "stream",
     "text": [
      "<pandas.core.groupby.generic.DataFrameGroupBy object at 0x7f8fce473710>\n"
     ]
    }
   ],
   "source": [
    "grouped_children = data.groupby('children_group')\n",
    "print(grouped_children)"
   ]
  },
  {
   "cell_type": "code",
   "execution_count": 40,
   "metadata": {
    "scrolled": false
   },
   "outputs": [
    {
     "name": "stdout",
     "output_type": "stream",
     "text": [
      "<pandas.core.groupby.generic.DataFrameGroupBy object at 0x7f8fce474110>\n"
     ]
    }
   ],
   "source": [
    "grouped_family_status = data.groupby('family_status_group')\n",
    "print(grouped_family_status)"
   ]
  },
  {
   "cell_type": "code",
   "execution_count": 41,
   "metadata": {
    "scrolled": true
   },
   "outputs": [
    {
     "name": "stdout",
     "output_type": "stream",
     "text": [
      "<pandas.core.groupby.generic.DataFrameGroupBy object at 0x7f8fce474a50>\n"
     ]
    }
   ],
   "source": [
    "grouped_income = data.groupby('income_group')\n",
    "print(grouped_income)"
   ]
  },
  {
   "cell_type": "code",
   "execution_count": 42,
   "metadata": {},
   "outputs": [
    {
     "name": "stdout",
     "output_type": "stream",
     "text": [
      "<pandas.core.groupby.generic.DataFrameGroupBy object at 0x7f8fce47a390>\n"
     ]
    }
   ],
   "source": [
    "#grouped_children = data.groupby('lemmas_group')\n",
    "grouped_purpose = data.groupby('lemmas_group')\n",
    "print(grouped_purpose)"
   ]
  },
  {
   "cell_type": "markdown",
   "metadata": {},
   "source": [
    "### Вывод"
   ]
  },
  {
   "cell_type": "markdown",
   "metadata": {},
   "source": [
    "Данные были разбиты на категории по следующим признакам: \n",
    "\n",
    "1) по количеству детей 0,1,2,3,4,5\n",
    "\n",
    "2) по семейному положению: женат/замужем, не женат/ не замужем\n",
    "\n",
    "3) по уровню дохода: выше медианного, ниже медианного\n",
    "\n",
    "4) по целям кредита: недвижимость, образование, авто, свадьба, медицина"
   ]
  },
  {
   "cell_type": "markdown",
   "metadata": {},
   "source": [
    "### Шаг 3. Ответьте на вопросы"
   ]
  },
  {
   "cell_type": "markdown",
   "metadata": {},
   "source": [
    "Для ответа на поставленный вопрос был посчитан и добавлен столбец Conversion, который показывает отношение числа просрочек (долг=1) к общему числу кредитов для данной группы. Чем выше этот показатель, тем чаще в данной группе имеют просрочки по выплате кредита и следовательно более вероятно и в будущем будут иметь просрочки."
   ]
  },
  {
   "cell_type": "markdown",
   "metadata": {},
   "source": [
    "- Есть ли зависимость между наличием детей и возвратом кредита в срок?"
   ]
  },
  {
   "cell_type": "code",
   "execution_count": 43,
   "metadata": {
    "scrolled": false
   },
   "outputs": [
    {
     "data": {
      "text/html": [
       "<div>\n",
       "<style scoped>\n",
       "    .dataframe tbody tr th:only-of-type {\n",
       "        vertical-align: middle;\n",
       "    }\n",
       "\n",
       "    .dataframe tbody tr th {\n",
       "        vertical-align: top;\n",
       "    }\n",
       "\n",
       "    .dataframe thead tr th {\n",
       "        text-align: left;\n",
       "    }\n",
       "\n",
       "    .dataframe thead tr:last-of-type th {\n",
       "        text-align: right;\n",
       "    }\n",
       "</style>\n",
       "<table border=\"1\" class=\"dataframe\">\n",
       "  <thead>\n",
       "    <tr>\n",
       "      <th></th>\n",
       "      <th colspan=\"2\" halign=\"left\">children</th>\n",
       "      <th>conversion</th>\n",
       "    </tr>\n",
       "    <tr>\n",
       "      <th>debt</th>\n",
       "      <th>0</th>\n",
       "      <th>1</th>\n",
       "      <th></th>\n",
       "    </tr>\n",
       "    <tr>\n",
       "      <th>children_group</th>\n",
       "      <th></th>\n",
       "      <th></th>\n",
       "      <th></th>\n",
       "    </tr>\n",
       "  </thead>\n",
       "  <tbody>\n",
       "    <tr>\n",
       "      <td>два</td>\n",
       "      <td>1926</td>\n",
       "      <td>202</td>\n",
       "      <td>0.094925</td>\n",
       "    </tr>\n",
       "    <tr>\n",
       "      <td>ноль</td>\n",
       "      <td>13044</td>\n",
       "      <td>1063</td>\n",
       "      <td>0.075353</td>\n",
       "    </tr>\n",
       "    <tr>\n",
       "      <td>один</td>\n",
       "      <td>4411</td>\n",
       "      <td>445</td>\n",
       "      <td>0.091639</td>\n",
       "    </tr>\n",
       "    <tr>\n",
       "      <td>пять и более</td>\n",
       "      <td>9</td>\n",
       "      <td>0</td>\n",
       "      <td>0.000000</td>\n",
       "    </tr>\n",
       "    <tr>\n",
       "      <td>три</td>\n",
       "      <td>303</td>\n",
       "      <td>27</td>\n",
       "      <td>0.081818</td>\n",
       "    </tr>\n",
       "    <tr>\n",
       "      <td>четыре</td>\n",
       "      <td>37</td>\n",
       "      <td>4</td>\n",
       "      <td>0.097561</td>\n",
       "    </tr>\n",
       "  </tbody>\n",
       "</table>\n",
       "</div>"
      ],
      "text/plain": [
       "               children       conversion\n",
       "debt                  0     1           \n",
       "children_group                          \n",
       "два                1926   202   0.094925\n",
       "ноль              13044  1063   0.075353\n",
       "один               4411   445   0.091639\n",
       "пять и более          9     0   0.000000\n",
       "три                 303    27   0.081818\n",
       "четыре               37     4   0.097561"
      ]
     },
     "execution_count": 43,
     "metadata": {},
     "output_type": "execute_result"
    }
   ],
   "source": [
    "data_pivot_children = data[[\"children_group\", \"children\", \"debt\"]].pivot_table(index=[\"children_group\"], columns=\"debt\", aggfunc=\"count\", fill_value=0)\n",
    "data_pivot_children['conversion'] = data_pivot_children['children'][1] / (data_pivot_children['children'][0] + data_pivot_children['children'][1])\n",
    "data_pivot_children"
   ]
  },
  {
   "cell_type": "markdown",
   "metadata": {},
   "source": [
    "Зависимости от количества детей как таковой нет, но есть зависимость от наличия детей:\n",
    "\n",
    "те, кто имеет 0 детей реже имеют долг по выплате, чем те, кто имеет детей."
   ]
  },
  {
   "cell_type": "markdown",
   "metadata": {},
   "source": [
    "### Вывод"
   ]
  },
  {
   "cell_type": "markdown",
   "metadata": {},
   "source": [
    "- Есть ли зависимость между семейным положением и возвратом кредита в срок?"
   ]
  },
  {
   "cell_type": "code",
   "execution_count": 44,
   "metadata": {
    "scrolled": true
   },
   "outputs": [
    {
     "data": {
      "text/html": [
       "<div>\n",
       "<style scoped>\n",
       "    .dataframe tbody tr th:only-of-type {\n",
       "        vertical-align: middle;\n",
       "    }\n",
       "\n",
       "    .dataframe tbody tr th {\n",
       "        vertical-align: top;\n",
       "    }\n",
       "\n",
       "    .dataframe thead tr th {\n",
       "        text-align: left;\n",
       "    }\n",
       "\n",
       "    .dataframe thead tr:last-of-type th {\n",
       "        text-align: right;\n",
       "    }\n",
       "</style>\n",
       "<table border=\"1\" class=\"dataframe\">\n",
       "  <thead>\n",
       "    <tr>\n",
       "      <th></th>\n",
       "      <th colspan=\"2\" halign=\"left\">family_status</th>\n",
       "      <th>conversion</th>\n",
       "    </tr>\n",
       "    <tr>\n",
       "      <th>debt</th>\n",
       "      <th>0</th>\n",
       "      <th>1</th>\n",
       "      <th></th>\n",
       "    </tr>\n",
       "    <tr>\n",
       "      <th>family_status_group</th>\n",
       "      <th></th>\n",
       "      <th></th>\n",
       "      <th></th>\n",
       "    </tr>\n",
       "  </thead>\n",
       "  <tbody>\n",
       "    <tr>\n",
       "      <td>женат / замужем</td>\n",
       "      <td>11413</td>\n",
       "      <td>931</td>\n",
       "      <td>0.075421</td>\n",
       "    </tr>\n",
       "    <tr>\n",
       "      <td>не женат / не замужем</td>\n",
       "      <td>8317</td>\n",
       "      <td>810</td>\n",
       "      <td>0.088748</td>\n",
       "    </tr>\n",
       "  </tbody>\n",
       "</table>\n",
       "</div>"
      ],
      "text/plain": [
       "                      family_status      conversion\n",
       "debt                              0    1           \n",
       "family_status_group                                \n",
       "женат / замужем               11413  931   0.075421\n",
       "не женат / не замужем          8317  810   0.088748"
      ]
     },
     "execution_count": 44,
     "metadata": {},
     "output_type": "execute_result"
    }
   ],
   "source": [
    "data_pivot_family = data[[\"family_status_group\", \"family_status\", \"debt\"]].pivot_table(index=[\"family_status_group\"], columns=\"debt\", aggfunc=\"count\", fill_value=0)\n",
    "data_pivot_family['conversion'] = data_pivot_family['family_status'][1] / (data_pivot_family['family_status'][0] + data_pivot_family['family_status'][1])\n",
    "data_pivot_family"
   ]
  },
  {
   "cell_type": "markdown",
   "metadata": {},
   "source": [
    "### Вывод"
   ]
  },
  {
   "cell_type": "markdown",
   "metadata": {},
   "source": [
    "Женатые или замужние люди реже имеют задержки по кредиту, зависимость есть."
   ]
  },
  {
   "cell_type": "markdown",
   "metadata": {},
   "source": [
    "- Есть ли зависимость между уровнем дохода и возвратом кредита в срок?"
   ]
  },
  {
   "cell_type": "code",
   "execution_count": 45,
   "metadata": {},
   "outputs": [
    {
     "data": {
      "text/html": [
       "<div>\n",
       "<style scoped>\n",
       "    .dataframe tbody tr th:only-of-type {\n",
       "        vertical-align: middle;\n",
       "    }\n",
       "\n",
       "    .dataframe tbody tr th {\n",
       "        vertical-align: top;\n",
       "    }\n",
       "\n",
       "    .dataframe thead tr th {\n",
       "        text-align: left;\n",
       "    }\n",
       "\n",
       "    .dataframe thead tr:last-of-type th {\n",
       "        text-align: right;\n",
       "    }\n",
       "</style>\n",
       "<table border=\"1\" class=\"dataframe\">\n",
       "  <thead>\n",
       "    <tr>\n",
       "      <th></th>\n",
       "      <th colspan=\"2\" halign=\"left\">total_income</th>\n",
       "      <th>conversion</th>\n",
       "    </tr>\n",
       "    <tr>\n",
       "      <th>debt</th>\n",
       "      <th>0</th>\n",
       "      <th>1</th>\n",
       "      <th></th>\n",
       "    </tr>\n",
       "    <tr>\n",
       "      <th>income_group</th>\n",
       "      <th></th>\n",
       "      <th></th>\n",
       "      <th></th>\n",
       "    </tr>\n",
       "  </thead>\n",
       "  <tbody>\n",
       "    <tr>\n",
       "      <td>выше медианного</td>\n",
       "      <td>9839</td>\n",
       "      <td>896</td>\n",
       "      <td>0.083465</td>\n",
       "    </tr>\n",
       "    <tr>\n",
       "      <td>ниже медианного</td>\n",
       "      <td>9891</td>\n",
       "      <td>845</td>\n",
       "      <td>0.078707</td>\n",
       "    </tr>\n",
       "  </tbody>\n",
       "</table>\n",
       "</div>"
      ],
      "text/plain": [
       "                total_income      conversion\n",
       "debt                       0    1           \n",
       "income_group                                \n",
       "выше медианного         9839  896   0.083465\n",
       "ниже медианного         9891  845   0.078707"
      ]
     },
     "execution_count": 45,
     "metadata": {},
     "output_type": "execute_result"
    }
   ],
   "source": [
    "data_pivot_income = data[[\"income_group\", \"total_income\", \"debt\"]].pivot_table(index=[\"income_group\"], columns=\"debt\", aggfunc=\"count\", fill_value=0)\n",
    "data_pivot_income['conversion'] = data_pivot_income['total_income'][1] / (data_pivot_income['total_income'][0] + data_pivot_income['total_income'][1])\n",
    "data_pivot_income"
   ]
  },
  {
   "cell_type": "markdown",
   "metadata": {},
   "source": [
    "### Вывод"
   ]
  },
  {
   "cell_type": "markdown",
   "metadata": {},
   "source": [
    "Неожиданный вывод, но люди с доходом выше мединного чаще имеют задержки по кредитам, однако разница между группами минимальна. Зависимость есть."
   ]
  },
  {
   "cell_type": "markdown",
   "metadata": {},
   "source": [
    "- Как разные цели кредита влияют на его возврат в срок?"
   ]
  },
  {
   "cell_type": "code",
   "execution_count": 46,
   "metadata": {
    "scrolled": true
   },
   "outputs": [
    {
     "data": {
      "text/html": [
       "<div>\n",
       "<style scoped>\n",
       "    .dataframe tbody tr th:only-of-type {\n",
       "        vertical-align: middle;\n",
       "    }\n",
       "\n",
       "    .dataframe tbody tr th {\n",
       "        vertical-align: top;\n",
       "    }\n",
       "\n",
       "    .dataframe thead tr th {\n",
       "        text-align: left;\n",
       "    }\n",
       "\n",
       "    .dataframe thead tr:last-of-type th {\n",
       "        text-align: right;\n",
       "    }\n",
       "</style>\n",
       "<table border=\"1\" class=\"dataframe\">\n",
       "  <thead>\n",
       "    <tr>\n",
       "      <th></th>\n",
       "      <th colspan=\"2\" halign=\"left\">lemmas</th>\n",
       "      <th>conversion</th>\n",
       "    </tr>\n",
       "    <tr>\n",
       "      <th>debt</th>\n",
       "      <th>0</th>\n",
       "      <th>1</th>\n",
       "      <th></th>\n",
       "    </tr>\n",
       "    <tr>\n",
       "      <th>lemmas_group</th>\n",
       "      <th></th>\n",
       "      <th></th>\n",
       "      <th></th>\n",
       "    </tr>\n",
       "  </thead>\n",
       "  <tbody>\n",
       "    <tr>\n",
       "      <td>покупка автомобиля</td>\n",
       "      <td>3905</td>\n",
       "      <td>403</td>\n",
       "      <td>0.093547</td>\n",
       "    </tr>\n",
       "    <tr>\n",
       "      <td>покупка недвижимости</td>\n",
       "      <td>10032</td>\n",
       "      <td>782</td>\n",
       "      <td>0.072314</td>\n",
       "    </tr>\n",
       "    <tr>\n",
       "      <td>получение образования</td>\n",
       "      <td>3644</td>\n",
       "      <td>370</td>\n",
       "      <td>0.092177</td>\n",
       "    </tr>\n",
       "    <tr>\n",
       "      <td>свадьба</td>\n",
       "      <td>2149</td>\n",
       "      <td>186</td>\n",
       "      <td>0.079657</td>\n",
       "    </tr>\n",
       "  </tbody>\n",
       "</table>\n",
       "</div>"
      ],
      "text/plain": [
       "                      lemmas      conversion\n",
       "debt                       0    1           \n",
       "lemmas_group                                \n",
       "покупка автомобиля      3905  403   0.093547\n",
       "покупка недвижимости   10032  782   0.072314\n",
       "получение образования   3644  370   0.092177\n",
       "свадьба                 2149  186   0.079657"
      ]
     },
     "execution_count": 46,
     "metadata": {},
     "output_type": "execute_result"
    }
   ],
   "source": [
    "data_pivot_purpose = data[['lemmas_group', 'lemmas', 'debt']].pivot_table(index=['lemmas_group'], columns='debt', aggfunc='count', fill_value=0)\n",
    "data_pivot_purpose['conversion'] = data_pivot_purpose['lemmas'][1] / (data_pivot_purpose['lemmas'][0] + data_pivot_purpose['lemmas'][1])\n",
    "data_pivot_purpose"
   ]
  },
  {
   "cell_type": "markdown",
   "metadata": {},
   "source": [
    "### Вывод"
   ]
  },
  {
   "cell_type": "markdown",
   "metadata": {},
   "source": [
    "Покупка автомобиля и получение образования чаще имеют просрочки по возврату, чем покупка недвижимости или свадьба. "
   ]
  },
  {
   "cell_type": "markdown",
   "metadata": {},
   "source": [
    "### Шаг 4. Общий вывод"
   ]
  },
  {
   "cell_type": "markdown",
   "metadata": {},
   "source": [
    "В ходе выполнения проекта были проделаны следующие основные шаги: \n",
    "- изучены исходные данные, \n",
    "- определены и заполнены пропущенные значения,\n",
    "- изменен тип данных для нескольких столбцов на целочисленный,\n",
    "- удалены прямые, смысловые, регистровые дубликаты в данных,\n",
    "- проведена лемматизация целей кредитов,\n",
    "- данные разделены на категории, \n",
    "- даны ответы на вопросы проекта."
   ]
  },
  {
   "cell_type": "markdown",
   "metadata": {},
   "source": [
    "### Чек-лист готовности проекта\n",
    "\n",
    "Поставьте 'x' в выполненных пунктах. Далее нажмите Shift+Enter."
   ]
  },
  {
   "cell_type": "markdown",
   "metadata": {},
   "source": [
    "- [x]  открыт файл;\n",
    "- [x]  файл изучен;\n",
    "- [x]  определены пропущенные значения;\n",
    "- [x]  заполнены пропущенные значения;\n",
    "- [x]  есть пояснение, какие пропущенные значения обнаружены;\n",
    "- [x]  описаны возможные причины появления пропусков в данных;\n",
    "- [x]  объяснено, по какому принципу заполнены пропуски;\n",
    "- [x]  заменен вещественный тип данных на целочисленный;\n",
    "- [x]  есть пояснение, какой метод используется для изменения типа данных и почему;\n",
    "- [x]  удалены дубликаты;\n",
    "- [x]  есть пояснение, какой метод используется для поиска и удаления дубликатов;\n",
    "- [x]  описаны возможные причины появления дубликатов в данных;\n",
    "- [x]  выделены леммы в значениях столбца с целями получения кредита;\n",
    "- [x]  описан процесс лемматизации;\n",
    "- [x]  данные категоризированы;\n",
    "- [x]  есть объяснение принципа категоризации данных;\n",
    "- [x]  есть ответ на вопрос: \"Есть ли зависимость между наличием детей и возвратом кредита в срок?\";\n",
    "- [x]  есть ответ на вопрос: \"Есть ли зависимость между семейным положением и возвратом кредита в срок?\";\n",
    "- [x]  есть ответ на вопрос: \"Есть ли зависимость между уровнем дохода и возвратом кредита в срок?\";\n",
    "- [x]  есть ответ на вопрос: \"Как разные цели кредита влияют на его возврат в срок?\";\n",
    "- [x]  в каждом этапе есть выводы;\n",
    "- [x]  есть общий вывод."
   ]
  }
 ],
 "metadata": {
  "kernelspec": {
   "display_name": "Python 3",
   "language": "python",
   "name": "python3"
  },
  "language_info": {
   "codemirror_mode": {
    "name": "ipython",
    "version": 3
   },
   "file_extension": ".py",
   "mimetype": "text/x-python",
   "name": "python",
   "nbconvert_exporter": "python",
   "pygments_lexer": "ipython3",
   "version": "3.8.5"
  }
 },
 "nbformat": 4,
 "nbformat_minor": 2
}
