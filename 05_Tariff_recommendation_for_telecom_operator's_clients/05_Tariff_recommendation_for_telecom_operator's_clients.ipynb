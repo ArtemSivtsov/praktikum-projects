{
 "cells": [
  {
   "cell_type": "markdown",
   "metadata": {},
   "source": [
    "# Проект 5. Введение в машинное обучение"
   ]
  },
  {
   "cell_type": "markdown",
   "metadata": {},
   "source": [
    "##  Рекомендация тарифов для клиентов оператора связи\n",
    "\n",
    "Исходные данные - данные о поведении клиентов, которые уже перешли на эти тарифы. \n",
    "\n",
    "Задача - построить модель для задачи классификации, которая выберет подходящий тариф. Предобработка данных не понадобится — вы её уже сделали."
   ]
  },
  {
   "cell_type": "markdown",
   "metadata": {},
   "source": [
    "## 1. Откройте и изучите файл"
   ]
  },
  {
   "cell_type": "code",
   "execution_count": 1,
   "metadata": {
    "scrolled": true
   },
   "outputs": [
    {
     "data": {
      "text/html": [
       "<div>\n",
       "<style scoped>\n",
       "    .dataframe tbody tr th:only-of-type {\n",
       "        vertical-align: middle;\n",
       "    }\n",
       "\n",
       "    .dataframe tbody tr th {\n",
       "        vertical-align: top;\n",
       "    }\n",
       "\n",
       "    .dataframe thead th {\n",
       "        text-align: right;\n",
       "    }\n",
       "</style>\n",
       "<table border=\"1\" class=\"dataframe\">\n",
       "  <thead>\n",
       "    <tr style=\"text-align: right;\">\n",
       "      <th></th>\n",
       "      <th>calls</th>\n",
       "      <th>minutes</th>\n",
       "      <th>messages</th>\n",
       "      <th>mb_used</th>\n",
       "      <th>is_ultra</th>\n",
       "    </tr>\n",
       "  </thead>\n",
       "  <tbody>\n",
       "    <tr>\n",
       "      <td>0</td>\n",
       "      <td>40.0</td>\n",
       "      <td>311.90</td>\n",
       "      <td>83.0</td>\n",
       "      <td>19915.42</td>\n",
       "      <td>0</td>\n",
       "    </tr>\n",
       "    <tr>\n",
       "      <td>1</td>\n",
       "      <td>85.0</td>\n",
       "      <td>516.75</td>\n",
       "      <td>56.0</td>\n",
       "      <td>22696.96</td>\n",
       "      <td>0</td>\n",
       "    </tr>\n",
       "    <tr>\n",
       "      <td>2</td>\n",
       "      <td>77.0</td>\n",
       "      <td>467.66</td>\n",
       "      <td>86.0</td>\n",
       "      <td>21060.45</td>\n",
       "      <td>0</td>\n",
       "    </tr>\n",
       "    <tr>\n",
       "      <td>3</td>\n",
       "      <td>106.0</td>\n",
       "      <td>745.53</td>\n",
       "      <td>81.0</td>\n",
       "      <td>8437.39</td>\n",
       "      <td>1</td>\n",
       "    </tr>\n",
       "    <tr>\n",
       "      <td>4</td>\n",
       "      <td>66.0</td>\n",
       "      <td>418.74</td>\n",
       "      <td>1.0</td>\n",
       "      <td>14502.75</td>\n",
       "      <td>0</td>\n",
       "    </tr>\n",
       "  </tbody>\n",
       "</table>\n",
       "</div>"
      ],
      "text/plain": [
       "   calls  minutes  messages   mb_used  is_ultra\n",
       "0   40.0   311.90      83.0  19915.42         0\n",
       "1   85.0   516.75      56.0  22696.96         0\n",
       "2   77.0   467.66      86.0  21060.45         0\n",
       "3  106.0   745.53      81.0   8437.39         1\n",
       "4   66.0   418.74       1.0  14502.75         0"
      ]
     },
     "execution_count": 1,
     "metadata": {},
     "output_type": "execute_result"
    }
   ],
   "source": [
    "import pandas as pd\n",
    "import numpy as np\n",
    "from scipy import stats as st\n",
    "from matplotlib import pyplot as plt\n",
    "import math\n",
    "from math import factorial\n",
    "pd.set_option('display.max_columns', None)\n",
    "import warnings\n",
    "warnings.filterwarnings('ignore')\n",
    "from sklearn.model_selection import train_test_split\n",
    "from sklearn.tree import DecisionTreeClassifier\n",
    "from sklearn.metrics import accuracy_score\n",
    "from sklearn.metrics import precision_score\n",
    "from sklearn.metrics import recall_score\n",
    "from sklearn.ensemble import RandomForestClassifier\n",
    "from sklearn.linear_model import LogisticRegression\n",
    "\n",
    "df = pd.read_csv('/datasets/users_behavior.csv')\n",
    "df.head()\n"
   ]
  },
  {
   "cell_type": "markdown",
   "metadata": {},
   "source": [
    "## 2. Разбейте данные на выборки"
   ]
  },
  {
   "cell_type": "code",
   "execution_count": 2,
   "metadata": {},
   "outputs": [],
   "source": [
    "df_train, df_valid_split = train_test_split(df, test_size=0.4, random_state=1)\n",
    "df_valid, df_test = train_test_split(df_valid_split, test_size=0.5, random_state=1)\n",
    "\n",
    "features_train = df_train.drop('is_ultra', axis=1)\n",
    "target_train = df_train['is_ultra']\n",
    "\n",
    "features_valid = df_valid.drop('is_ultra', axis=1)\n",
    "target_valid = df_valid['is_ultra']\n",
    "\n",
    "features_test = df_test.drop('is_ultra', axis=1)\n",
    "target_test = df_test['is_ultra']\n"
   ]
  },
  {
   "cell_type": "markdown",
   "metadata": {},
   "source": [
    "#### Данные разделены на выборки как 0.6 на тренировочную, 0.2 на валидационную и 0.2 на тестовую.\n",
    "#### Выделены Фичи и таргеты для каждой выборки"
   ]
  },
  {
   "cell_type": "markdown",
   "metadata": {},
   "source": [
    "## 3. Исследуйте модели"
   ]
  },
  {
   "cell_type": "code",
   "execution_count": 3,
   "metadata": {
    "scrolled": true
   },
   "outputs": [
    {
     "name": "stdout",
     "output_type": "stream",
     "text": [
      "max_depth = 1 : \n",
      "accuracy на тренировочной выборке 0.765\n",
      "precision на тренировочной выборке 0.773\n",
      "recall на тренировочной выборке 0.292\n",
      "\n",
      "accuracy на валидационной выборке 0.719\n",
      "precision на валидационной выборке 0.769\n",
      "recall на валидационной выборке 0.231\n",
      "\n",
      "max_depth = 2 : \n",
      "accuracy на тренировочной выборке 0.794\n",
      "precision на тренировочной выборке 0.749\n",
      "recall на тренировочной выборке 0.458\n",
      "\n",
      "accuracy на валидационной выборке 0.756\n",
      "precision на валидационной выборке 0.771\n",
      "recall на валидационной выборке 0.389\n",
      "\n",
      "max_depth = 3 : \n",
      "accuracy на тренировочной выборке 0.809\n",
      "precision на тренировочной выборке 0.763\n",
      "recall на тренировочной выборке 0.517\n",
      "\n",
      "accuracy на валидационной выборке 0.771\n",
      "precision на валидационной выборке 0.78\n",
      "recall на валидационной выборке 0.444\n",
      "\n",
      "max_depth = 4 : \n",
      "accuracy на тренировочной выборке 0.815\n",
      "precision на тренировочной выборке 0.817\n",
      "recall на тренировочной выборке 0.484\n",
      "\n",
      "accuracy на валидационной выборке 0.768\n",
      "precision на валидационной выборке 0.807\n",
      "recall на валидационной выборке 0.407\n",
      "\n",
      "max_depth = 5 : \n",
      "accuracy на тренировочной выборке 0.824\n",
      "precision на тренировочной выборке 0.854\n",
      "recall на тренировочной выборке 0.491\n",
      "\n",
      "accuracy на валидационной выборке 0.77\n",
      "precision на валидационной выборке 0.821\n",
      "recall на валидационной выборке 0.403\n",
      "\n",
      "max_depth = 6 : \n",
      "accuracy на тренировочной выборке 0.837\n",
      "precision на тренировочной выборке 0.879\n",
      "recall на тренировочной выборке 0.521\n",
      "\n",
      "accuracy на валидационной выборке 0.771\n",
      "precision на валидационной выборке 0.805\n",
      "recall на валидационной выборке 0.421\n",
      "\n",
      "max_depth = 7 : \n",
      "accuracy на тренировочной выборке 0.851\n",
      "precision на тренировочной выборке 0.872\n",
      "recall на тренировочной выборке 0.582\n",
      "\n",
      "accuracy на валидационной выборке 0.778\n",
      "precision на валидационной выборке 0.792\n",
      "recall на валидационной выборке 0.458\n",
      "\n",
      "max_depth = 8 : \n",
      "accuracy на тренировочной выборке 0.871\n",
      "precision на тренировочной выборке 0.931\n",
      "recall на тренировочной выборке 0.61\n",
      "\n",
      "accuracy на валидационной выборке 0.787\n",
      "precision на валидационной выборке 0.802\n",
      "recall на валидационной выборке 0.486\n",
      "\n",
      "max_depth = 9 : \n",
      "accuracy на тренировочной выборке 0.883\n",
      "precision на тренировочной выборке 0.958\n",
      "recall на тренировочной выборке 0.635\n",
      "\n",
      "accuracy на валидационной выборке 0.796\n",
      "precision на валидационной выборке 0.815\n",
      "recall на валидационной выборке 0.509\n",
      "\n",
      "max_depth = 10 : \n",
      "accuracy на тренировочной выборке 0.898\n",
      "precision на тренировочной выборке 0.95\n",
      "recall на тренировочной выборке 0.692\n",
      "\n",
      "accuracy на валидационной выборке 0.787\n",
      "precision на валидационной выборке 0.78\n",
      "recall на валидационной выборке 0.509\n",
      "\n",
      "max_depth = 11 : \n",
      "accuracy на тренировочной выборке 0.911\n",
      "precision на тренировочной выборке 0.983\n",
      "recall на тренировочной выборке 0.713\n",
      "\n",
      "accuracy на валидационной выборке 0.787\n",
      "precision на валидационной выборке 0.78\n",
      "recall на валидационной выборке 0.509\n",
      "\n",
      "max_depth = 12 : \n",
      "accuracy на тренировочной выборке 0.92\n",
      "precision на тренировочной выборке 0.977\n",
      "recall на тренировочной выборке 0.747\n",
      "\n",
      "accuracy на валидационной выборке 0.784\n",
      "precision на валидационной выборке 0.755\n",
      "recall на валидационной выборке 0.528\n",
      "\n",
      "max_depth = 13 : \n",
      "accuracy на тренировочной выборке 0.933\n",
      "precision на тренировочной выборке 0.996\n",
      "recall на тренировочной выборке 0.776\n",
      "\n",
      "accuracy на валидационной выборке 0.79\n",
      "precision на валидационной выборке 0.776\n",
      "recall на валидационной выборке 0.528\n",
      "\n",
      "max_depth = 14 : \n",
      "accuracy на тренировочной выборке 0.943\n",
      "precision на тренировочной выборке 0.991\n",
      "recall на тренировочной выборке 0.815\n",
      "\n",
      "accuracy на валидационной выборке 0.771\n",
      "precision на валидационной выборке 0.725\n",
      "recall на валидационной выборке 0.514\n",
      "\n",
      "max_depth = 15 : \n",
      "accuracy на тренировочной выборке 0.949\n",
      "precision на тренировочной выборке 0.99\n",
      "recall на тренировочной выборке 0.836\n",
      "\n",
      "accuracy на валидационной выборке 0.767\n",
      "precision на валидационной выборке 0.696\n",
      "recall на валидационной выборке 0.542\n",
      "\n",
      "max_depth = 16 : \n",
      "accuracy на тренировочной выборке 0.964\n",
      "precision на тренировочной выборке 0.988\n",
      "recall на тренировочной выборке 0.89\n",
      "\n",
      "accuracy на валидационной выборке 0.771\n",
      "precision на валидационной выборке 0.702\n",
      "recall на валидационной выборке 0.556\n",
      "\n",
      "max_depth = 17 : \n",
      "accuracy на тренировочной выборке 0.972\n",
      "precision на тренировочной выборке 0.996\n",
      "recall на тренировочной выборке 0.909\n",
      "\n",
      "accuracy на валидационной выборке 0.764\n",
      "precision на валидационной выборке 0.676\n",
      "recall на валидационной выборке 0.569\n",
      "\n",
      "max_depth = 18 : \n",
      "accuracy на тренировочной выборке 0.978\n",
      "precision на тренировочной выборке 0.994\n",
      "recall на тренировочной выборке 0.932\n",
      "\n",
      "accuracy на валидационной выборке 0.748\n",
      "precision на валидационной выборке 0.647\n",
      "recall на валидационной выборке 0.551\n",
      "\n",
      "max_depth = 19 : \n",
      "accuracy на тренировочной выборке 0.985\n",
      "precision на тренировочной выборке 0.993\n",
      "recall на тренировочной выборке 0.958\n",
      "\n",
      "accuracy на валидационной выборке 0.733\n",
      "precision на валидационной выборке 0.61\n",
      "recall на валидационной выборке 0.565\n",
      "\n"
     ]
    }
   ],
   "source": [
    "for depth in range(1, 20): \n",
    "    model_tree_choise = DecisionTreeClassifier(max_depth=depth, random_state=1)\n",
    "    model_tree_choise.fit(features_train, target_train)\n",
    "    predictions_tree_ch_train = model_tree_choise.predict(features_train)\n",
    "    predictions_tree_ch_valid = model_tree_choise.predict(features_valid)\n",
    "    predictions_tree_ch_test = model_tree_choise.predict(features_test)\n",
    "    print(\"max_depth =\", depth, \": \")\n",
    "    print('accuracy на тренировочной выборке', np.round(accuracy_score(target_train, predictions_tree_ch_train), 3))\n",
    "    print('precision на тренировочной выборке', np.round(precision_score(target_train, predictions_tree_ch_train), 3))\n",
    "    print('recall на тренировочной выборке', np.round(recall_score(target_train, predictions_tree_ch_train), 3))\n",
    "    print()\n",
    "    print('accuracy на валидационной выборке', np.round(accuracy_score(target_valid, predictions_tree_ch_valid), 3))\n",
    "    print('precision на валидационной выборке', np.round(precision_score(target_valid, predictions_tree_ch_valid), 3))\n",
    "    print('recall на валидационной выборке', np.round(recall_score(target_valid, predictions_tree_ch_valid), 3))\n",
    "    print()\n",
    "#    print('accuracy на тестовой выборке', np.round(accuracy_score(target_test, predictions_tree_ch_test), 3))\n",
    "#    print()"
   ]
  },
  {
   "cell_type": "markdown",
   "metadata": {},
   "source": [
    "#### Был проварьирован гиперпараметр максимальной глубины от 1 до 20, оптимальными метриками обладает модель с глубиной 9, именно она принимается за удовлетворяющую техническому заданию. Меньше 9 имеется тенденция к недообучению, а более 9 начинает появляться переобучение модели"
   ]
  },
  {
   "cell_type": "code",
   "execution_count": 4,
   "metadata": {},
   "outputs": [
    {
     "name": "stdout",
     "output_type": "stream",
     "text": [
      "max_depth = 9\n",
      "accuracy на тренировочной выборке 0.883\n",
      "precision на тренировочной выборке 0.958\n",
      "recall на тренировочной выборке 0.635\n",
      "\n",
      "accuracy на валидационной выборке 0.796\n",
      "precision на валидационной выборке 0.815\n",
      "recall на валидационной выборке 0.509\n"
     ]
    }
   ],
   "source": [
    "model_tree = DecisionTreeClassifier(max_depth=9, random_state=1)\n",
    "model_tree.fit(features_train, target_train)\n",
    "predictions_tree_train = model_tree.predict(features_train)\n",
    "predictions_tree_valid = model_tree.predict(features_valid)\n",
    "predictions_tree_test = model_tree.predict(features_test)\n",
    "print(\"max_depth = 9\")\n",
    "print('accuracy на тренировочной выборке', np.round(accuracy_score(target_train, predictions_tree_train), 3))\n",
    "print('precision на тренировочной выборке', np.round(precision_score(target_train, predictions_tree_train), 3))\n",
    "print('recall на тренировочной выборке', np.round(recall_score(target_train, predictions_tree_train), 3))\n",
    "print()\n",
    "print('accuracy на валидационной выборке', np.round(accuracy_score(target_valid, predictions_tree_valid), 3))\n",
    "print('precision на валидационной выборке', np.round(precision_score(target_valid, predictions_tree_valid), 3))\n",
    "print('recall на валидационной выборке', np.round(recall_score(target_valid, predictions_tree_valid), 3))"
   ]
  },
  {
   "cell_type": "code",
   "execution_count": 5,
   "metadata": {
    "scrolled": true
   },
   "outputs": [
    {
     "name": "stdout",
     "output_type": "stream",
     "text": [
      "N_estimators лучшей модели: 9\n",
      "Accuracy наилучшей модели на тренировочной выборке: 0.98\n",
      "precision наилучшей модели на тренировочной выборке 0.978\n",
      "recall наилучшей модели на тренировочной выборке 0.955\n",
      "\n",
      "Accuracy  наилучшей модели на валидационной выборке: 0.784\n",
      "precision наилучшей модели на валидационной выборке: 0.731\n",
      "recall наилучшей модели на валидационной выборке: 0.565\n"
     ]
    }
   ],
   "source": [
    "best_rand_model = None\n",
    "best_rand_result = 0\n",
    "for est in range(1, 10):\n",
    "    model_rand = RandomForestClassifier(random_state=1, n_estimators=est) \n",
    "    model_rand.fit(features_train, target_train) \n",
    "    predictions_rand_train = model_rand.predict(features_train)\n",
    "    predictions_rand_valid = model_rand.predict(features_valid)\n",
    "    predictions_rand_test = model_rand.predict(features_test)\n",
    "    \n",
    "    result_rand_train = np.round(accuracy_score(target_train, predictions_rand_train), 3)\n",
    "    result_rand_valid = np.round(accuracy_score(target_valid, predictions_rand_valid), 3)\n",
    "    result_rand_test = np.round(accuracy_score(target_test, predictions_rand_test), 3)\n",
    "    if result_rand_valid > best_rand_result:\n",
    "        \n",
    "        best_rand_model = model_rand \n",
    "        \n",
    "        best_train_acc = result_rand_train\n",
    "        best_train_prec = np.round(precision_score(target_train, predictions_rand_train), 3)\n",
    "        best_train_recall = np.round(recall_score(target_train, predictions_rand_train), 3)\n",
    "        \n",
    "        best_valid_acc = result_rand_valid \n",
    "        best_valid_prec = np.round(precision_score(target_valid, predictions_rand_valid), 3)\n",
    "        best_valid_recall = np.round(recall_score(target_valid, predictions_rand_valid), 3)\n",
    "        \n",
    "        best_test_acc = result_rand_test\n",
    "        best_test_prec = np.round(precision_score(target_test, predictions_rand_test), 3)\n",
    "        best_test_recall = np.round(recall_score(target_test, predictions_rand_test), 3)\n",
    "        \n",
    "        \n",
    "        best_est = est\n",
    "print('N_estimators лучшей модели:', best_est)\n",
    "print(\"Accuracy наилучшей модели на тренировочной выборке:\", best_train_acc)\n",
    "print('precision наилучшей модели на тренировочной выборке', best_train_prec)\n",
    "print('recall наилучшей модели на тренировочной выборке', best_train_recall)\n",
    "print()\n",
    "print(\"Accuracy  наилучшей модели на валидационной выборке:\", best_valid_acc)\n",
    "print('precision наилучшей модели на валидационной выборке:', best_valid_prec)\n",
    "print('recall наилучшей модели на валидационной выборке:', best_valid_recall)"
   ]
  },
  {
   "cell_type": "markdown",
   "metadata": {},
   "source": [
    "#### Аналогично для модели случайного леса было проварьировано число оценщиков от 1 до 10, оптимальной признана модель с 9 оценщиками."
   ]
  },
  {
   "cell_type": "code",
   "execution_count": 6,
   "metadata": {},
   "outputs": [
    {
     "name": "stdout",
     "output_type": "stream",
     "text": [
      "accuracy на тренировочной выборке 0.751\n",
      "precision на тренировочной выборке 0.896\n",
      "recall на тренировочной выборке 0.18\n",
      "\n",
      "accuracy на валидационной выборке 0.719\n",
      "precision на валидационной выборке 0.889\n",
      "recall на валидационной выборке 0.185\n"
     ]
    }
   ],
   "source": [
    "model_log = LogisticRegression(random_state=1) \n",
    "model_log.fit(features_train, target_train) \n",
    "\n",
    "predictions_log_train = model_log.predict(features_train)\n",
    "predictions_log_valid = model_log.predict(features_valid)\n",
    "predictions_log_test = model_log.predict(features_test)\n",
    "\n",
    "print('accuracy на тренировочной выборке', np.round(accuracy_score(target_train, predictions_log_train), 3))\n",
    "print('precision на тренировочной выборке', np.round(precision_score(target_train, predictions_log_train), 3))\n",
    "print('recall на тренировочной выборке', np.round(recall_score(target_train, predictions_log_train), 3))\n",
    "print()\n",
    "print('accuracy на валидационной выборке', np.round(accuracy_score(target_valid, predictions_log_valid), 3))\n",
    "print('precision на валидационной выборке', np.round(precision_score(target_valid, predictions_log_valid), 3))\n",
    "print('recall на валидационной выборке', np.round(recall_score(target_valid, predictions_log_valid), 3))"
   ]
  },
  {
   "cell_type": "markdown",
   "metadata": {},
   "source": [
    "#### Модель логистической регрессии имеет не самые хорошиеметрики, и нет возможности что-то варьировать, поэтому данная модель не подойдет для нашей задачи ( точность менее 0.75)"
   ]
  },
  {
   "cell_type": "markdown",
   "metadata": {},
   "source": [
    "## 4. Проверьте модель на тестовой выборке"
   ]
  },
  {
   "cell_type": "code",
   "execution_count": 7,
   "metadata": {},
   "outputs": [
    {
     "name": "stdout",
     "output_type": "stream",
     "text": [
      "accuracy модели дерева решений на тестовой выборке 0.787\n",
      "precision модели дерева решений на тестовой выборке 0.746\n",
      "recall модели дерева решений на тестовой выборке 0.462\n"
     ]
    }
   ],
   "source": [
    "print('accuracy модели дерева решений на тестовой выборке', np.round(accuracy_score(target_test, predictions_tree_test), 3))\n",
    "print('precision модели дерева решений на тестовой выборке', np.round(precision_score(target_test, predictions_tree_test), 3))\n",
    "print('recall модели дерева решений на тестовой выборке', np.round(recall_score(target_test, predictions_tree_test), 3))"
   ]
  },
  {
   "cell_type": "code",
   "execution_count": 8,
   "metadata": {},
   "outputs": [
    {
     "name": "stdout",
     "output_type": "stream",
     "text": [
      "accuracy модели случайного леса на тестовой выборке 0.798\n",
      "precision модели случайного леса на тестовой выборке 0.708\n",
      "recall модели случайного леса на тестовой выборке 0.579\n"
     ]
    }
   ],
   "source": [
    "print('accuracy модели случайного леса на тестовой выборке', np.round(accuracy_score(target_test, predictions_rand_test), 3))\n",
    "print('precision модели случайного леса на тестовой выборке', np.round(precision_score(target_test, predictions_rand_test), 3))\n",
    "print('recall модели случайного леса на тестовой выборке', np.round(recall_score(target_test, predictions_rand_test), 3))"
   ]
  },
  {
   "cell_type": "code",
   "execution_count": 9,
   "metadata": {},
   "outputs": [
    {
     "name": "stdout",
     "output_type": "stream",
     "text": [
      "accuracy модели логистической регрессии на тестовой выборке 0.743\n",
      "precision модели логистической регрессии на тестовой выборке 0.808\n",
      "recall модели логистической регрессии на тестовой выборке 0.213\n"
     ]
    }
   ],
   "source": [
    "print('accuracy модели логистической регрессии на тестовой выборке', np.round(accuracy_score(target_test, predictions_log_test), 3))\n",
    "print('precision модели логистической регрессии на тестовой выборке', np.round(precision_score(target_test, predictions_log_test), 3))\n",
    "print('recall модели логистической регрессии на тестовой выборке', np.round(recall_score(target_test, predictions_log_test), 3))"
   ]
  },
  {
   "cell_type": "markdown",
   "metadata": {},
   "source": [
    "#### При проверке на тестовой выборке видно, что наилучшими показателями accuracy, precision и recall обладает модель случайного леса. Также хорошими показателями обладает модель дерева решений"
   ]
  },
  {
   "cell_type": "markdown",
   "metadata": {},
   "source": [
    "## 5. (бонус) Проверьте модели на адекватность"
   ]
  },
  {
   "cell_type": "code",
   "execution_count": 10,
   "metadata": {
    "scrolled": false
   },
   "outputs": [
    {
     "name": "stdout",
     "output_type": "stream",
     "text": [
      "accuracy на тренировочной выборке 0.583\n",
      "precision на тренировочной выборке 0.302\n",
      "recall на тренировочной выборке 0.309\n",
      "\n",
      "accuracy на валидационной выборке 0.551\n",
      "precision на валидационной выборке 0.315\n",
      "recall на валидационной выборке 0.287\n",
      "\n",
      "accuracy на тестовой выборке 0.571\n",
      "precision на тестовой выборке 0.299\n",
      "recall на тестовой выборке 0.299\n"
     ]
    }
   ],
   "source": [
    "from sklearn.dummy import DummyClassifier\n",
    "model_dummy = DummyClassifier(random_state=1)\n",
    "model_dummy.fit(features_train, target_train)\n",
    "predictions_dummy_train = model_dummy.predict(features_train)\n",
    "predictions_dummy_valid = model_dummy.predict(features_valid)\n",
    "predictions_dummy_test = model_dummy.predict(features_test)\n",
    "\n",
    "print('accuracy на тренировочной выборке', np.round(accuracy_score(target_train, predictions_dummy_train), 3))\n",
    "print('precision на тренировочной выборке', np.round(precision_score(target_train, predictions_dummy_train), 3))\n",
    "print('recall на тренировочной выборке', np.round(recall_score(target_train, predictions_dummy_train), 3))\n",
    "print()\n",
    "print('accuracy на валидационной выборке', np.round(accuracy_score(target_valid, predictions_dummy_valid), 3))\n",
    "print('precision на валидационной выборке', np.round(precision_score(target_valid, predictions_dummy_valid), 3))\n",
    "print('recall на валидационной выборке', np.round(recall_score(target_valid, predictions_dummy_valid), 3))\n",
    "print()\n",
    "print('accuracy на тестовой выборке', np.round(accuracy_score(target_test, predictions_dummy_test), 3))\n",
    "print('precision на тестовой выборке', np.round(precision_score(target_test, predictions_dummy_test), 3))\n",
    "print('recall на тестовой выборке', np.round(recall_score(target_test, predictions_dummy_test), 3))"
   ]
  },
  {
   "cell_type": "markdown",
   "metadata": {},
   "source": [
    "#### Адекватность модели проверена сравнением с классификатором дурака (это мой авторский перевод :) ). Все метрики в моделях деревьев и случайного леса выше чем у данного классификатора, так что модель признана адекватной."
   ]
  },
  {
   "cell_type": "markdown",
   "metadata": {},
   "source": [
    "## Чек-лист готовности проекта"
   ]
  },
  {
   "cell_type": "markdown",
   "metadata": {},
   "source": [
    "Поставьте 'x' в выполненных пунктах. Далее нажмите Shift+Enter."
   ]
  },
  {
   "cell_type": "markdown",
   "metadata": {},
   "source": [
    "- [x] Jupyter Notebook открыт\n",
    "- [x] Весь код исполняется без ошибок\n",
    "- [x] Ячейки с кодом расположены в порядке исполнения\n",
    "- [x] Выполнено задание 1: данные загружены и изучены\n",
    "- [x] Выполнено задание 2: данные разбиты на три выборки\n",
    "- [x] Выполнено задание 3: проведено исследование моделей\n",
    "    - [x] Рассмотрено больше одной модели\n",
    "    - [x] Рассмотрено хотя бы 3 значения гипепараметров для какой-нибудь модели\n",
    "    - [x] Написаны выводы по результатам исследования\n",
    "- [x] Выполнено задание 3: Проведено тестирование\n",
    "- [x] Удалось достичь accuracy не меньше 0.75\n"
   ]
  },
  {
   "cell_type": "markdown",
   "metadata": {},
   "source": [
    "### В ходе вполнения проекта были рассмотрены несколько моделей машинного обучения и выбраны модели с наиболее хорошими метриками качества работы - модель случайного леса и дерево решений. Проведены варьирования гиперпараметров для них и отобраны наиболее подходящие. Сделаны промежуточные выводы."
   ]
  }
 ],
 "metadata": {
  "kernelspec": {
   "display_name": "Python 3",
   "language": "python",
   "name": "python3"
  },
  "language_info": {
   "codemirror_mode": {
    "name": "ipython",
    "version": 3
   },
   "file_extension": ".py",
   "mimetype": "text/x-python",
   "name": "python",
   "nbconvert_exporter": "python",
   "pygments_lexer": "ipython3",
   "version": "3.8.5"
  }
 },
 "nbformat": 4,
 "nbformat_minor": 2
}
