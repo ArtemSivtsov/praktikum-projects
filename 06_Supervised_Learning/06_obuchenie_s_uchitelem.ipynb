{
 "cells": [
  {
   "cell_type": "markdown",
   "metadata": {},
   "source": [
    "# Проект 6. Обучение с учителем"
   ]
  },
  {
   "cell_type": "markdown",
   "metadata": {},
   "source": [
    "## Прогноз оттока клиентов из банка\n",
    "Из «Бета-Банка» стали уходить клиенты. Каждый месяц. Немного, но заметно. Банковские маркетологи посчитали: сохранять текущих клиентов дешевле, чем привлекать новых.\n",
    "\n",
    "Нужно спрогнозировать, уйдёт клиент из банка в ближайшее время или нет. Вам предоставлены исторические данные о поведении клиентов и расторжении договоров с банком. \n",
    "\n",
    "Постройте модель с предельно большим значением *F1*-меры. Чтобы сдать проект успешно, нужно довести метрику до 0.59. Проверьте *F1*-меру на тестовой выборке самостоятельно.\n",
    "\n",
    "Дополнительно измеряйте *AUC-ROC*, сравнивайте её значение с *F1*-мерой.\n",
    "\n",
    "Источник данных: [https://www.kaggle.com/barelydedicated/bank-customer-churn-modeling](https://www.kaggle.com/barelydedicated/bank-customer-churn-modeling)"
   ]
  },
  {
   "cell_type": "markdown",
   "metadata": {},
   "source": [
    "проект считается 13 минут."
   ]
  },
  {
   "cell_type": "markdown",
   "metadata": {},
   "source": [
    "# 1. Подготовка данных"
   ]
  },
  {
   "cell_type": "markdown",
   "metadata": {},
   "source": [
    "Импортируем исходный датасет и необходимые модели, метрики"
   ]
  },
  {
   "cell_type": "code",
   "execution_count": 49,
   "metadata": {},
   "outputs": [],
   "source": [
    "import time\n",
    "start = time.time()"
   ]
  },
  {
   "cell_type": "code",
   "execution_count": 85,
   "metadata": {
    "scrolled": true
   },
   "outputs": [
    {
     "data": {
      "text/html": [
       "<div>\n",
       "<style scoped>\n",
       "    .dataframe tbody tr th:only-of-type {\n",
       "        vertical-align: middle;\n",
       "    }\n",
       "\n",
       "    .dataframe tbody tr th {\n",
       "        vertical-align: top;\n",
       "    }\n",
       "\n",
       "    .dataframe thead th {\n",
       "        text-align: right;\n",
       "    }\n",
       "</style>\n",
       "<table border=\"1\" class=\"dataframe\">\n",
       "  <thead>\n",
       "    <tr style=\"text-align: right;\">\n",
       "      <th></th>\n",
       "      <th>RowNumber</th>\n",
       "      <th>CustomerId</th>\n",
       "      <th>Surname</th>\n",
       "      <th>CreditScore</th>\n",
       "      <th>Geography</th>\n",
       "      <th>Gender</th>\n",
       "      <th>Age</th>\n",
       "      <th>Tenure</th>\n",
       "      <th>Balance</th>\n",
       "      <th>NumOfProducts</th>\n",
       "      <th>HasCrCard</th>\n",
       "      <th>IsActiveMember</th>\n",
       "      <th>EstimatedSalary</th>\n",
       "      <th>Exited</th>\n",
       "    </tr>\n",
       "  </thead>\n",
       "  <tbody>\n",
       "    <tr>\n",
       "      <td>0</td>\n",
       "      <td>1</td>\n",
       "      <td>15634602</td>\n",
       "      <td>Hargrave</td>\n",
       "      <td>619</td>\n",
       "      <td>France</td>\n",
       "      <td>Female</td>\n",
       "      <td>42</td>\n",
       "      <td>2.0</td>\n",
       "      <td>0.00</td>\n",
       "      <td>1</td>\n",
       "      <td>1</td>\n",
       "      <td>1</td>\n",
       "      <td>101348.88</td>\n",
       "      <td>1</td>\n",
       "    </tr>\n",
       "    <tr>\n",
       "      <td>1</td>\n",
       "      <td>2</td>\n",
       "      <td>15647311</td>\n",
       "      <td>Hill</td>\n",
       "      <td>608</td>\n",
       "      <td>Spain</td>\n",
       "      <td>Female</td>\n",
       "      <td>41</td>\n",
       "      <td>1.0</td>\n",
       "      <td>83807.86</td>\n",
       "      <td>1</td>\n",
       "      <td>0</td>\n",
       "      <td>1</td>\n",
       "      <td>112542.58</td>\n",
       "      <td>0</td>\n",
       "    </tr>\n",
       "    <tr>\n",
       "      <td>2</td>\n",
       "      <td>3</td>\n",
       "      <td>15619304</td>\n",
       "      <td>Onio</td>\n",
       "      <td>502</td>\n",
       "      <td>France</td>\n",
       "      <td>Female</td>\n",
       "      <td>42</td>\n",
       "      <td>8.0</td>\n",
       "      <td>159660.80</td>\n",
       "      <td>3</td>\n",
       "      <td>1</td>\n",
       "      <td>0</td>\n",
       "      <td>113931.57</td>\n",
       "      <td>1</td>\n",
       "    </tr>\n",
       "    <tr>\n",
       "      <td>3</td>\n",
       "      <td>4</td>\n",
       "      <td>15701354</td>\n",
       "      <td>Boni</td>\n",
       "      <td>699</td>\n",
       "      <td>France</td>\n",
       "      <td>Female</td>\n",
       "      <td>39</td>\n",
       "      <td>1.0</td>\n",
       "      <td>0.00</td>\n",
       "      <td>2</td>\n",
       "      <td>0</td>\n",
       "      <td>0</td>\n",
       "      <td>93826.63</td>\n",
       "      <td>0</td>\n",
       "    </tr>\n",
       "    <tr>\n",
       "      <td>4</td>\n",
       "      <td>5</td>\n",
       "      <td>15737888</td>\n",
       "      <td>Mitchell</td>\n",
       "      <td>850</td>\n",
       "      <td>Spain</td>\n",
       "      <td>Female</td>\n",
       "      <td>43</td>\n",
       "      <td>2.0</td>\n",
       "      <td>125510.82</td>\n",
       "      <td>1</td>\n",
       "      <td>1</td>\n",
       "      <td>1</td>\n",
       "      <td>79084.10</td>\n",
       "      <td>0</td>\n",
       "    </tr>\n",
       "  </tbody>\n",
       "</table>\n",
       "</div>"
      ],
      "text/plain": [
       "   RowNumber  CustomerId   Surname  CreditScore Geography  Gender  Age  \\\n",
       "0          1    15634602  Hargrave          619    France  Female   42   \n",
       "1          2    15647311      Hill          608     Spain  Female   41   \n",
       "2          3    15619304      Onio          502    France  Female   42   \n",
       "3          4    15701354      Boni          699    France  Female   39   \n",
       "4          5    15737888  Mitchell          850     Spain  Female   43   \n",
       "\n",
       "   Tenure    Balance  NumOfProducts  HasCrCard  IsActiveMember  \\\n",
       "0     2.0       0.00              1          1               1   \n",
       "1     1.0   83807.86              1          0               1   \n",
       "2     8.0  159660.80              3          1               0   \n",
       "3     1.0       0.00              2          0               0   \n",
       "4     2.0  125510.82              1          1               1   \n",
       "\n",
       "   EstimatedSalary  Exited  \n",
       "0        101348.88       1  \n",
       "1        112542.58       0  \n",
       "2        113931.57       1  \n",
       "3         93826.63       0  \n",
       "4         79084.10       0  "
      ]
     },
     "execution_count": 85,
     "metadata": {},
     "output_type": "execute_result"
    }
   ],
   "source": [
    "import pandas as pd\n",
    "import numpy as np\n",
    "from scipy import stats as st\n",
    "from matplotlib import pyplot as plt\n",
    "pd.set_option('display.max_columns', None)\n",
    "import warnings\n",
    "warnings.filterwarnings('ignore')\n",
    "from sklearn.model_selection import train_test_split\n",
    "from sklearn.tree import DecisionTreeClassifier\n",
    "from sklearn.ensemble import RandomForestClassifier\n",
    "from sklearn.linear_model import LogisticRegression\n",
    "from sklearn.metrics import accuracy_score\n",
    "from sklearn.metrics import precision_score\n",
    "from sklearn.metrics import recall_score\n",
    "from sklearn.metrics import f1_score\n",
    "from sklearn.metrics import roc_auc_score\n",
    "from sklearn.utils import shuffle\n",
    "from sklearn.preprocessing import StandardScaler\n",
    "#from sklearn.inspection import permutation_importance\n",
    "\n",
    "#df = pd.read_csv('/Users/artemsivtsov/Downloads/Churn.csv') #'/datasets/Churn.csv')\n",
    "df = pd.read_csv('/datasets/Churn.csv')\n",
    "df.head()"
   ]
  },
  {
   "cell_type": "code",
   "execution_count": 86,
   "metadata": {
    "scrolled": false
   },
   "outputs": [
    {
     "name": "stdout",
     "output_type": "stream",
     "text": [
      "<class 'pandas.core.frame.DataFrame'>\n",
      "RangeIndex: 10000 entries, 0 to 9999\n",
      "Data columns (total 14 columns):\n",
      "rownumber          10000 non-null int64\n",
      "customerid         10000 non-null int64\n",
      "surname            10000 non-null object\n",
      "creditscore        10000 non-null int64\n",
      "geography          10000 non-null object\n",
      "gender             10000 non-null object\n",
      "age                10000 non-null int64\n",
      "tenure             9091 non-null float64\n",
      "balance            10000 non-null float64\n",
      "numofproducts      10000 non-null int64\n",
      "hascrcard          10000 non-null int64\n",
      "isactivemember     10000 non-null int64\n",
      "estimatedsalary    10000 non-null float64\n",
      "exited             10000 non-null int64\n",
      "dtypes: float64(3), int64(8), object(3)\n",
      "memory usage: 1.1+ MB\n"
     ]
    }
   ],
   "source": [
    "df.columns = df.columns.str.lower()\n",
    "df.info()"
   ]
  },
  {
   "cell_type": "code",
   "execution_count": 35,
   "metadata": {
    "scrolled": true
   },
   "outputs": [
    {
     "name": "stdout",
     "output_type": "stream",
     "text": [
      "<class 'pandas.core.frame.DataFrame'>\n",
      "RangeIndex: 9091 entries, 0 to 9090\n",
      "Data columns (total 15 columns):\n",
      "index              9091 non-null int64\n",
      "rownumber          9091 non-null int64\n",
      "customerid         9091 non-null int64\n",
      "surname            9091 non-null object\n",
      "creditscore        9091 non-null int64\n",
      "geography          9091 non-null object\n",
      "gender             9091 non-null object\n",
      "age                9091 non-null int64\n",
      "tenure             9091 non-null float64\n",
      "balance            9091 non-null float64\n",
      "numofproducts      9091 non-null int64\n",
      "hascrcard          9091 non-null int64\n",
      "isactivemember     9091 non-null int64\n",
      "estimatedsalary    9091 non-null float64\n",
      "exited             9091 non-null int64\n",
      "dtypes: float64(3), int64(9), object(3)\n",
      "memory usage: 1.0+ MB\n"
     ]
    }
   ],
   "source": [
    "df = df.dropna(axis=0).reset_index()\n",
    "df.info()"
   ]
  },
  {
   "cell_type": "markdown",
   "metadata": {},
   "source": [
    "удаляем строки с пропусками, так как я не придумал как можно заменить их по логике. Да и вряд ли можно достоверно заменить количество недвижимости. Процент пропусков немногим менее 10%, что достаточно много, но не криитчно."
   ]
  },
  {
   "cell_type": "code",
   "execution_count": 36,
   "metadata": {},
   "outputs": [],
   "source": [
    "#df = df.drop(['index', 'rownumber', 'customerid'], axis='columns')"
   ]
  },
  {
   "cell_type": "code",
   "execution_count": 89,
   "metadata": {},
   "outputs": [],
   "source": [
    "df = df.drop(['rownumber', 'customerid', 'surname'], axis='columns')"
   ]
  },
  {
   "cell_type": "code",
   "execution_count": 90,
   "metadata": {
    "scrolled": true
   },
   "outputs": [
    {
     "data": {
      "text/html": [
       "<div>\n",
       "<style scoped>\n",
       "    .dataframe tbody tr th:only-of-type {\n",
       "        vertical-align: middle;\n",
       "    }\n",
       "\n",
       "    .dataframe tbody tr th {\n",
       "        vertical-align: top;\n",
       "    }\n",
       "\n",
       "    .dataframe thead th {\n",
       "        text-align: right;\n",
       "    }\n",
       "</style>\n",
       "<table border=\"1\" class=\"dataframe\">\n",
       "  <thead>\n",
       "    <tr style=\"text-align: right;\">\n",
       "      <th></th>\n",
       "      <th>creditscore</th>\n",
       "      <th>geography</th>\n",
       "      <th>gender</th>\n",
       "      <th>age</th>\n",
       "      <th>tenure</th>\n",
       "      <th>balance</th>\n",
       "      <th>numofproducts</th>\n",
       "      <th>hascrcard</th>\n",
       "      <th>isactivemember</th>\n",
       "      <th>estimatedsalary</th>\n",
       "      <th>exited</th>\n",
       "    </tr>\n",
       "  </thead>\n",
       "  <tbody>\n",
       "    <tr>\n",
       "      <td>0</td>\n",
       "      <td>619</td>\n",
       "      <td>France</td>\n",
       "      <td>Female</td>\n",
       "      <td>42</td>\n",
       "      <td>2.0</td>\n",
       "      <td>0.00</td>\n",
       "      <td>1</td>\n",
       "      <td>1</td>\n",
       "      <td>1</td>\n",
       "      <td>101348.88</td>\n",
       "      <td>1</td>\n",
       "    </tr>\n",
       "    <tr>\n",
       "      <td>1</td>\n",
       "      <td>608</td>\n",
       "      <td>Spain</td>\n",
       "      <td>Female</td>\n",
       "      <td>41</td>\n",
       "      <td>1.0</td>\n",
       "      <td>83807.86</td>\n",
       "      <td>1</td>\n",
       "      <td>0</td>\n",
       "      <td>1</td>\n",
       "      <td>112542.58</td>\n",
       "      <td>0</td>\n",
       "    </tr>\n",
       "    <tr>\n",
       "      <td>2</td>\n",
       "      <td>502</td>\n",
       "      <td>France</td>\n",
       "      <td>Female</td>\n",
       "      <td>42</td>\n",
       "      <td>8.0</td>\n",
       "      <td>159660.80</td>\n",
       "      <td>3</td>\n",
       "      <td>1</td>\n",
       "      <td>0</td>\n",
       "      <td>113931.57</td>\n",
       "      <td>1</td>\n",
       "    </tr>\n",
       "    <tr>\n",
       "      <td>3</td>\n",
       "      <td>699</td>\n",
       "      <td>France</td>\n",
       "      <td>Female</td>\n",
       "      <td>39</td>\n",
       "      <td>1.0</td>\n",
       "      <td>0.00</td>\n",
       "      <td>2</td>\n",
       "      <td>0</td>\n",
       "      <td>0</td>\n",
       "      <td>93826.63</td>\n",
       "      <td>0</td>\n",
       "    </tr>\n",
       "    <tr>\n",
       "      <td>4</td>\n",
       "      <td>850</td>\n",
       "      <td>Spain</td>\n",
       "      <td>Female</td>\n",
       "      <td>43</td>\n",
       "      <td>2.0</td>\n",
       "      <td>125510.82</td>\n",
       "      <td>1</td>\n",
       "      <td>1</td>\n",
       "      <td>1</td>\n",
       "      <td>79084.10</td>\n",
       "      <td>0</td>\n",
       "    </tr>\n",
       "  </tbody>\n",
       "</table>\n",
       "</div>"
      ],
      "text/plain": [
       "   creditscore geography  gender  age  tenure    balance  numofproducts  \\\n",
       "0          619    France  Female   42     2.0       0.00              1   \n",
       "1          608     Spain  Female   41     1.0   83807.86              1   \n",
       "2          502    France  Female   42     8.0  159660.80              3   \n",
       "3          699    France  Female   39     1.0       0.00              2   \n",
       "4          850     Spain  Female   43     2.0  125510.82              1   \n",
       "\n",
       "   hascrcard  isactivemember  estimatedsalary  exited  \n",
       "0          1               1        101348.88       1  \n",
       "1          0               1        112542.58       0  \n",
       "2          1               0        113931.57       1  \n",
       "3          0               0         93826.63       0  \n",
       "4          1               1         79084.10       0  "
      ]
     },
     "execution_count": 90,
     "metadata": {},
     "output_type": "execute_result"
    }
   ],
   "source": [
    "df.head()"
   ]
  },
  {
   "cell_type": "markdown",
   "metadata": {},
   "source": [
    "## Вывод\n",
    "Была выполнена предобработка данных, данные готовы к моделированию."
   ]
  },
  {
   "cell_type": "code",
   "execution_count": 91,
   "metadata": {},
   "outputs": [],
   "source": [
    "# будем проводить категоризацию только категориям\n",
    "categorical = ['geography', 'gender']"
   ]
  },
  {
   "cell_type": "markdown",
   "metadata": {},
   "source": [
    "# 2. Исследование задачи"
   ]
  },
  {
   "cell_type": "code",
   "execution_count": 92,
   "metadata": {},
   "outputs": [
    {
     "name": "stdout",
     "output_type": "stream",
     "text": [
      "(6000, 10)\n",
      "(6000,)\n",
      "(2000, 10)\n",
      "(2000,)\n",
      "(2000, 10)\n",
      "(2000,)\n"
     ]
    }
   ],
   "source": [
    "#df_ohe = pd.get_dummies(df, drop_first=True)\n",
    "df_ohe = pd.get_dummies(df, drop_first=True, columns=categorical)   # НОВАЯ СТРОКА С КОДОМ\n",
    "\n",
    "target = df_ohe['exited']\n",
    "features = df_ohe.drop(['exited', 'tenure'], axis=1)\n",
    "\n",
    "features_train, features_valid_test, target_train, target_valid_test = train_test_split(\n",
    "    features, target, test_size=0.4, random_state=12345)\n",
    "features_valid, features_test, target_valid, target_test = train_test_split(\n",
    "    features_valid_test, target_valid_test, test_size=0.5, random_state=12345)\n",
    "\n",
    "print(features_train.shape)\n",
    "print(target_train.shape)\n",
    "\n",
    "print(features_valid.shape)\n",
    "print(target_valid.shape)\n",
    "\n",
    "print(features_test.shape)\n",
    "print(target_test.shape)"
   ]
  },
  {
   "cell_type": "code",
   "execution_count": 45,
   "metadata": {},
   "outputs": [
    {
     "data": {
      "text/html": [
       "<div>\n",
       "<style scoped>\n",
       "    .dataframe tbody tr th:only-of-type {\n",
       "        vertical-align: middle;\n",
       "    }\n",
       "\n",
       "    .dataframe tbody tr th {\n",
       "        vertical-align: top;\n",
       "    }\n",
       "\n",
       "    .dataframe thead th {\n",
       "        text-align: right;\n",
       "    }\n",
       "</style>\n",
       "<table border=\"1\" class=\"dataframe\">\n",
       "  <thead>\n",
       "    <tr style=\"text-align: right;\">\n",
       "      <th></th>\n",
       "      <th>creditscore</th>\n",
       "      <th>age</th>\n",
       "      <th>tenure</th>\n",
       "      <th>balance</th>\n",
       "      <th>numofproducts</th>\n",
       "      <th>hascrcard</th>\n",
       "      <th>isactivemember</th>\n",
       "      <th>estimatedsalary</th>\n",
       "      <th>geography_Germany</th>\n",
       "      <th>geography_Spain</th>\n",
       "      <th>gender_Male</th>\n",
       "    </tr>\n",
       "  </thead>\n",
       "  <tbody>\n",
       "    <tr>\n",
       "      <td>8483</td>\n",
       "      <td>727</td>\n",
       "      <td>28</td>\n",
       "      <td>2.0</td>\n",
       "      <td>110997.76</td>\n",
       "      <td>1</td>\n",
       "      <td>1</td>\n",
       "      <td>0</td>\n",
       "      <td>101433.76</td>\n",
       "      <td>0</td>\n",
       "      <td>0</td>\n",
       "      <td>0</td>\n",
       "    </tr>\n",
       "    <tr>\n",
       "      <td>3431</td>\n",
       "      <td>537</td>\n",
       "      <td>26</td>\n",
       "      <td>7.0</td>\n",
       "      <td>106397.75</td>\n",
       "      <td>1</td>\n",
       "      <td>0</td>\n",
       "      <td>0</td>\n",
       "      <td>103563.23</td>\n",
       "      <td>0</td>\n",
       "      <td>0</td>\n",
       "      <td>1</td>\n",
       "    </tr>\n",
       "    <tr>\n",
       "      <td>6770</td>\n",
       "      <td>610</td>\n",
       "      <td>40</td>\n",
       "      <td>9.0</td>\n",
       "      <td>0.00</td>\n",
       "      <td>1</td>\n",
       "      <td>1</td>\n",
       "      <td>1</td>\n",
       "      <td>149602.54</td>\n",
       "      <td>0</td>\n",
       "      <td>0</td>\n",
       "      <td>1</td>\n",
       "    </tr>\n",
       "  </tbody>\n",
       "</table>\n",
       "</div>"
      ],
      "text/plain": [
       "      creditscore  age  tenure    balance  numofproducts  hascrcard  \\\n",
       "8483          727   28     2.0  110997.76              1          1   \n",
       "3431          537   26     7.0  106397.75              1          0   \n",
       "6770          610   40     9.0       0.00              1          1   \n",
       "\n",
       "      isactivemember  estimatedsalary  geography_Germany  geography_Spain  \\\n",
       "8483               0        101433.76                  0                0   \n",
       "3431               0        103563.23                  0                0   \n",
       "6770               1        149602.54                  0                0   \n",
       "\n",
       "      gender_Male  \n",
       "8483            0  \n",
       "3431            1  \n",
       "6770            1  "
      ]
     },
     "execution_count": 45,
     "metadata": {},
     "output_type": "execute_result"
    }
   ],
   "source": [
    "features_train.head(3)"
   ]
  },
  {
   "cell_type": "markdown",
   "metadata": {},
   "source": [
    "Кодируем данные с помощью ОНЕ, т.к. категориальные признаки необходимо привести к численному виду. Разделяем наши данные на тренировочную, валидационную и тестовую выборку в соотношении 60, 20, 20 %."
   ]
  },
  {
   "cell_type": "markdown",
   "metadata": {},
   "source": [
    "<font color='blue'><u><b>КОММЕНТАРИЙ РЕВЬЮЕРА</b></u></font><br />\n",
    "<font color='green'>\n",
    "метод категоризации с удалением лишнего столбца - ОК.<br>\n",
    "Тут ещё можно контролировать размер новых выборок"
   ]
  },
  {
   "cell_type": "markdown",
   "metadata": {},
   "source": [
    "Попробуем пару моделей без перебора гиперпараметров:"
   ]
  },
  {
   "cell_type": "code",
   "execution_count": 84,
   "metadata": {},
   "outputs": [
    {
     "name": "stdout",
     "output_type": "stream",
     "text": [
      "accuracy = 0.8102310231023102\n",
      "precision = 0.6333333333333333\n",
      "recall = 0.20159151193633953\n",
      "f1 = 0.30583501006036223\n",
      "roc_auc = 0.7728699308062298\n"
     ]
    }
   ],
   "source": [
    "model_log = LogisticRegression(random_state=12345, solver='liblinear')\n",
    "model_log.fit(features_train, target_train)\n",
    "predicted_valid_log = pd.Series(model_log.predict(features_valid))\n",
    "\n",
    "print('accuracy =', accuracy_score(target_valid, predicted_valid_log))\n",
    "print('precision =', precision_score(target_valid, predicted_valid_log))\n",
    "print('recall =', recall_score(target_valid, predicted_valid_log))\n",
    "print('f1 =', f1_score(target_valid, predicted_valid_log))\n",
    "probabilities_valid_log = model_log.predict_proba(features_valid)\n",
    "probabilities_one_valid_log = probabilities_valid_log[:, 1]\n",
    "print('roc_auc =', roc_auc_score(target_valid, probabilities_one_valid_log))"
   ]
  },
  {
   "cell_type": "code",
   "execution_count": 47,
   "metadata": {},
   "outputs": [
    {
     "name": "stdout",
     "output_type": "stream",
     "text": [
      "accuracy = 0.7898789878987899\n",
      "precision = 0.49333333333333335\n",
      "recall = 0.4907161803713528\n",
      "f1 = 0.4920212765957447\n",
      "roc_auc = 0.679431650213435\n"
     ]
    }
   ],
   "source": [
    "model_tree = DecisionTreeClassifier(random_state=12345)\n",
    "model_tree.fit(features_train, target_train)\n",
    "predicted_valid_tree = pd.Series(model_tree.predict(features_valid))\n",
    "\n",
    "print('accuracy =', accuracy_score(target_valid, predicted_valid_tree))\n",
    "print('precision =', precision_score(target_valid, predicted_valid_tree))\n",
    "print('recall =', recall_score(target_valid, predicted_valid_tree))\n",
    "print('f1 =', f1_score(target_valid, predicted_valid_tree))\n",
    "probabilities_valid_tree = model_tree.predict_proba(features_valid)\n",
    "probabilities_one_valid_tree = probabilities_valid_tree[:, 1]\n",
    "print('roc_auc =', roc_auc_score(target_valid, probabilities_one_valid_tree))"
   ]
  },
  {
   "cell_type": "code",
   "execution_count": 48,
   "metadata": {
    "scrolled": true
   },
   "outputs": [
    {
     "name": "stdout",
     "output_type": "stream",
     "text": [
      "accuracy = 0.8503850385038504\n",
      "precision = 0.7397260273972602\n",
      "recall = 0.4297082228116711\n",
      "f1 = 0.5436241610738256\n",
      "roc_auc = 0.8348221928111372\n"
     ]
    }
   ],
   "source": [
    "model_forest = RandomForestClassifier(random_state=12345)\n",
    "model_forest.fit(features_train, target_train)\n",
    "predicted_valid_forest = pd.Series(model_forest.predict(features_valid))\n",
    "\n",
    "print('accuracy =', accuracy_score(target_valid, predicted_valid_forest))\n",
    "print('precision =', precision_score(target_valid, predicted_valid_forest))\n",
    "print('recall =', recall_score(target_valid, predicted_valid_forest))\n",
    "print('f1 =',f1_score(target_valid, predicted_valid_forest))\n",
    "\n",
    "probabilities_valid_forest = model_forest.predict_proba(features_valid)\n",
    "probabilities_one_valid_forest = probabilities_valid_forest[:, 1]\n",
    "print('roc_auc =', roc_auc_score(target_valid, probabilities_one_valid_forest))"
   ]
  },
  {
   "cell_type": "markdown",
   "metadata": {},
   "source": [
    "Результаты не впечатляющие.. Продолжим обработку"
   ]
  },
  {
   "cell_type": "code",
   "execution_count": 49,
   "metadata": {},
   "outputs": [],
   "source": [
    "numeric = ['creditscore', 'tenure', 'balance', 'numofproducts', 'hascrcard', 'isactivemember', 'estimatedsalary']\n",
    "\n",
    "#scaler = StandardScaler()\n",
    "#scaler.fit(features_train[numeric])\n",
    "#features_train[numeric] = scaler.transform(features_train[numeric])\n",
    "#features_valid[numeric] = scaler.transform(features_valid[numeric])"
   ]
  },
  {
   "cell_type": "code",
   "execution_count": 80,
   "metadata": {},
   "outputs": [],
   "source": [
    "\n",
    "scaler = StandardScaler()\n",
    "features_train[numeric] = scaler.fit_transform(features_train[numeric])\n",
    "features_valid[numeric] = scaler.transform(features_valid[numeric])\n"
   ]
  },
  {
   "cell_type": "markdown",
   "metadata": {},
   "source": [
    "Масштабируем количественные признаки с помощью скейлера и пробуем на простых моделях еще раз:"
   ]
  },
  {
   "cell_type": "code",
   "execution_count": 81,
   "metadata": {},
   "outputs": [
    {
     "name": "stdout",
     "output_type": "stream",
     "text": [
      "accuracy = 0.8102310231023102\n",
      "precision = 0.6333333333333333\n",
      "recall = 0.20159151193633953\n",
      "f1 = 0.30583501006036223\n",
      "roc_auc = 0.7728699308062298\n"
     ]
    }
   ],
   "source": [
    "model_log = LogisticRegression(random_state=12345, solver='liblinear')\n",
    "model_log.fit(features_train, target_train)\n",
    "predicted_valid_log = pd.Series(model_log.predict(features_valid))\n",
    "\n",
    "print('accuracy =', accuracy_score(target_valid, predicted_valid_log))\n",
    "print('precision =', precision_score(target_valid, predicted_valid_log))\n",
    "print('recall =', recall_score(target_valid, predicted_valid_log))\n",
    "print('f1 =', f1_score(target_valid, predicted_valid_log))\n",
    "probabilities_valid_log = model_log.predict_proba(features_valid)\n",
    "probabilities_one_valid_log = probabilities_valid_log[:, 1]\n",
    "print('roc_auc =', roc_auc_score(target_valid, probabilities_one_valid_log))"
   ]
  },
  {
   "cell_type": "code",
   "execution_count": 82,
   "metadata": {
    "scrolled": false
   },
   "outputs": [
    {
     "name": "stdout",
     "output_type": "stream",
     "text": [
      "Depth наилучшей модели: 7\n",
      "Accuracy на валидационной выборке: 0.8536853685368537\n",
      "Precision на валидационной выборке: 0.7211155378486056\n",
      "Recall на валидационной выборке: 0.48010610079575594\n",
      "F1 на валидационной выборке: 0.5764331210191083\n",
      "ROC_AUC на валидационной выборке: 0.8346049843812412\n",
      "CPU times: user 474 ms, sys: 111 µs, total: 474 ms\n",
      "Wall time: 472 ms\n"
     ]
    }
   ],
   "source": [
    "%%time\n",
    "best_model_tree = None\n",
    "best_depth_tree = 0\n",
    "best_acc_tree = 0\n",
    "best_prec_tree = 0\n",
    "best_rec_tree = 0\n",
    "best_f1_tree = 0\n",
    "best_roc_auc_tree = 0\n",
    "for depth in range(1, 20, 1):\n",
    "    model_tree = DecisionTreeClassifier(random_state=12345, max_depth=depth)\n",
    "    model_tree.fit(features_train, target_train)\n",
    "    predicted_valid_tree = pd.Series(model_tree.predict(features_valid))\n",
    "    result_tree = f1_score(target_valid, predicted_valid_tree)\n",
    "    if result_tree > best_f1_tree:\n",
    "        best_model_tree = model_tree\n",
    "        best_depth_tree = depth\n",
    "        best_acc_tree = accuracy_score(target_valid, predicted_valid_tree)\n",
    "        best_prec_tree = precision_score(target_valid, predicted_valid_tree)\n",
    "        best_rec_tree = recall_score(target_valid, predicted_valid_tree)\n",
    "        best_f1_tree = result_tree\n",
    "        probabilities_valid_tree = model_tree.predict_proba(features_valid)\n",
    "        probabilities_one_valid_tree = probabilities_valid_tree[:, 1]\n",
    "        best_roc_auc_tree = roc_auc_score(target_valid, probabilities_one_valid_tree)\n",
    "\n",
    "print('Depth наилучшей модели:', best_depth_tree)\n",
    "print(\"Accuracy на валидационной выборке:\", best_acc_tree)\n",
    "print(\"Precision на валидационной выборке:\", best_prec_tree)\n",
    "print(\"Recall на валидационной выборке:\", best_rec_tree)        \n",
    "print(\"F1 на валидационной выборке:\", best_f1_tree)\n",
    "print(\"ROC_AUC на валидационной выборке:\", best_roc_auc_tree)"
   ]
  },
  {
   "cell_type": "markdown",
   "metadata": {},
   "source": [
    "Наилучшее значение метрики Ф1 получилось при глубине дерева 7. Ф1=0.58, что близко к целевому значению."
   ]
  },
  {
   "cell_type": "code",
   "execution_count": 53,
   "metadata": {
    "scrolled": false
   },
   "outputs": [
    {
     "name": "stdout",
     "output_type": "stream",
     "text": [
      "Depth наилучшей модели: 1\n",
      "N_estimators наилучшей модели: 1\n",
      "Accuracy на валидационной выборке: 0.7854785478547854\n",
      "Precision на валидационной выборке: 0.4830287206266319\n",
      "Recall на валидационной выборке: 0.4907161803713528\n",
      "F1 на валидационной выборке: 0.48684210526315796\n",
      "ROC_AUC на валидационной выборке: 0.5731679481350448\n",
      "CPU times: user 1min 50s, sys: 224 ms, total: 1min 50s\n",
      "Wall time: 2min 13s\n"
     ]
    }
   ],
   "source": [
    "%%time\n",
    "best_model_forest = None\n",
    "best_depth_forest = 0\n",
    "best_n_est = 0\n",
    "best_acc_forest = 0\n",
    "best_prec_forest = 0\n",
    "best_rec_forest = 0\n",
    "best_f1_forest = 0\n",
    "best_roc_auc_forest = 0\n",
    "for depth in range(1, 20, 1):\n",
    "    for n in range(1, 100, 5):\n",
    "        model_forest = RandomForestClassifier(random_state=12345, max_depth=depth, n_estimators=n)\n",
    "        model_forest.fit(features_train, target_train)\n",
    "        predicted_valid_forest = pd.Series(model_tree.predict(features_valid))\n",
    "        result_forest = f1_score(target_valid, predicted_valid_forest)\n",
    "        if result_forest > best_f1_forest:\n",
    "            best_model_forest = model_forest\n",
    "            best_depth_forest = depth\n",
    "            best_n_est = n\n",
    "            best_acc_forest = accuracy_score(target_valid, predicted_valid_forest)\n",
    "            best_prec_forest = precision_score(target_valid, predicted_valid_forest)\n",
    "            best_rec_forest = recall_score(target_valid, predicted_valid_forest)\n",
    "            best_f1_forest = result_forest\n",
    "            probabilities_valid_forest = model_forest.predict_proba(features_valid)\n",
    "            probabilities_one_valid_forest = probabilities_valid_forest[:, 1]\n",
    "            best_roc_auc_forest = roc_auc_score(target_valid, probabilities_one_valid_forest)\n",
    "\n",
    "print('Depth наилучшей модели:', best_depth_forest)\n",
    "print('N_estimators наилучшей модели:', best_n_est)\n",
    "print(\"Accuracy на валидационной выборке:\", best_acc_forest)\n",
    "print(\"Precision на валидационной выборке:\", best_prec_forest)\n",
    "print(\"Recall на валидационной выборке:\", best_rec_forest)        \n",
    "print(\"F1 на валидационной выборке:\", best_f1_forest)\n",
    "print(\"ROC_AUC на валидационной выборке:\", best_roc_auc_forest)"
   ]
  },
  {
   "cell_type": "markdown",
   "metadata": {},
   "source": [
    "## Вывод\n",
    "были исследованы данные и модели, проведено кодирование и масштабирование, однако целевого значения Ф1 не удалось достичь. Лучшее значение - 0.58 у модели дерева решений с глубиной 7."
   ]
  },
  {
   "cell_type": "markdown",
   "metadata": {},
   "source": [
    "# 3. Борьба с дисбалансом"
   ]
  },
  {
   "cell_type": "markdown",
   "metadata": {},
   "source": [
    "Исследуем дисбаланс на нашем целевом признаке:"
   ]
  },
  {
   "cell_type": "code",
   "execution_count": 54,
   "metadata": {},
   "outputs": [
    {
     "data": {
      "text/plain": [
       "0    0.796062\n",
       "1    0.203938\n",
       "Name: exited, dtype: float64"
      ]
     },
     "execution_count": 54,
     "metadata": {},
     "output_type": "execute_result"
    }
   ],
   "source": [
    "class_frequency = df['exited'].value_counts(normalize=True)\n",
    "class_frequency"
   ]
  },
  {
   "cell_type": "markdown",
   "metadata": {},
   "source": [
    "соотношение 0 и 1 примерно 80 на 20, значит необходима балансировка."
   ]
  },
  {
   "cell_type": "code",
   "execution_count": 55,
   "metadata": {},
   "outputs": [
    {
     "data": {
      "text/plain": [
       "0    0.933993\n",
       "1    0.066007\n",
       "dtype: float64"
      ]
     },
     "execution_count": 55,
     "metadata": {},
     "output_type": "execute_result"
    }
   ],
   "source": [
    "class_frequency_pred_log = predicted_valid_log.value_counts(normalize=True)\n",
    "class_frequency_pred_log"
   ]
  },
  {
   "cell_type": "code",
   "execution_count": 56,
   "metadata": {},
   "outputs": [
    {
     "data": {
      "text/plain": [
       "0    0.789329\n",
       "1    0.210671\n",
       "dtype: float64"
      ]
     },
     "execution_count": 56,
     "metadata": {},
     "output_type": "execute_result"
    }
   ],
   "source": [
    "class_frequency_pred_tree = predicted_valid_tree.value_counts(normalize=True)\n",
    "class_frequency_pred_tree"
   ]
  },
  {
   "cell_type": "code",
   "execution_count": 57,
   "metadata": {
    "scrolled": true
   },
   "outputs": [
    {
     "data": {
      "text/plain": [
       "0    0.789329\n",
       "1    0.210671\n",
       "dtype: float64"
      ]
     },
     "execution_count": 57,
     "metadata": {},
     "output_type": "execute_result"
    }
   ],
   "source": [
    "class_frequency_pred_forest = predicted_valid_forest.value_counts(normalize=True)\n",
    "class_frequency_pred_forest"
   ]
  },
  {
   "cell_type": "markdown",
   "metadata": {},
   "source": [
    "Соотношение у моделей и того гораздо хуже"
   ]
  },
  {
   "cell_type": "markdown",
   "metadata": {},
   "source": [
    "## class_weight='balanced'"
   ]
  },
  {
   "cell_type": "markdown",
   "metadata": {},
   "source": [
    "Теперь попробуем наши данные прогнать через модели со взвешиванием классов ( с балансировкой)"
   ]
  },
  {
   "cell_type": "code",
   "execution_count": 58,
   "metadata": {},
   "outputs": [
    {
     "name": "stdout",
     "output_type": "stream",
     "text": [
      "accuracy = 0.7084708470847084\n",
      "precision = 0.39148936170212767\n",
      "recall = 0.7320954907161804\n",
      "f1 = 0.5101663585951941\n",
      "roc_auc = 0.777565682540676\n"
     ]
    }
   ],
   "source": [
    "model_log = LogisticRegression(random_state=12345, solver='liblinear', class_weight='balanced')\n",
    "model_log.fit(features_train, target_train)\n",
    "predicted_valid_log = pd.Series(model_log.predict(features_valid))\n",
    "\n",
    "print('accuracy =', accuracy_score(target_valid, predicted_valid_log))\n",
    "print('precision =', precision_score(target_valid, predicted_valid_log))\n",
    "print('recall =', recall_score(target_valid, predicted_valid_log))\n",
    "print('f1 =', f1_score(target_valid, predicted_valid_log))\n",
    "probabilities_valid_log = model_log.predict_proba(features_valid)\n",
    "probabilities_one_valid_log = probabilities_valid_log[:, 1]\n",
    "print('roc_auc =', roc_auc_score(target_valid, probabilities_one_valid_log))"
   ]
  },
  {
   "cell_type": "code",
   "execution_count": 59,
   "metadata": {
    "scrolled": true
   },
   "outputs": [
    {
     "name": "stdout",
     "output_type": "stream",
     "text": [
      "Depth наилучшей модели: 5\n",
      "Accuracy на валидационной выборке: 0.7783278327832783\n",
      "Precision на валидационной выборке: 0.477112676056338\n",
      "Recall на валидационной выборке: 0.7188328912466844\n",
      "F1 на валидационной выборке: 0.5735449735449736\n",
      "ROC_AUC на валидационной выборке: 0.8396523192522141\n",
      "CPU times: user 721 ms, sys: 101 µs, total: 721 ms\n",
      "Wall time: 1.44 s\n"
     ]
    }
   ],
   "source": [
    "%%time\n",
    "best_model_tree = None\n",
    "best_depth_tree = 0\n",
    "best_acc_tree = 0\n",
    "best_prec_tree = 0\n",
    "best_rec_tree = 0\n",
    "best_f1_tree = 0\n",
    "best_roc_auc_tree = 0\n",
    "for depth in range(1, 20, 1):\n",
    "    model_tree = DecisionTreeClassifier(random_state=12345, max_depth=depth, class_weight='balanced')\n",
    "    model_tree.fit(features_train, target_train)\n",
    "    predicted_valid_tree = pd.Series(model_tree.predict(features_valid))\n",
    "    result_tree = f1_score(target_valid, predicted_valid_tree)\n",
    "    if result_tree > best_f1_tree:\n",
    "        best_model_tree = model_tree\n",
    "        best_depth_tree = depth\n",
    "        best_acc_tree = accuracy_score(target_valid, predicted_valid_tree)\n",
    "        best_prec_tree = precision_score(target_valid, predicted_valid_tree)\n",
    "        best_rec_tree = recall_score(target_valid, predicted_valid_tree)\n",
    "        best_f1_tree = result_tree\n",
    "        probabilities_valid_tree = model_tree.predict_proba(features_valid)\n",
    "        probabilities_one_valid_tree = probabilities_valid_tree[:, 1]\n",
    "        best_roc_auc_tree = roc_auc_score(target_valid, probabilities_one_valid_tree)\n",
    "\n",
    "print('Depth наилучшей модели:', best_depth_tree)\n",
    "print(\"Accuracy на валидационной выборке:\", best_acc_tree)\n",
    "print(\"Precision на валидационной выборке:\", best_prec_tree)\n",
    "print(\"Recall на валидационной выборке:\", best_rec_tree)        \n",
    "print(\"F1 на валидационной выборке:\", best_f1_tree)\n",
    "print(\"ROC_AUC на валидационной выборке:\", best_roc_auc_tree)"
   ]
  },
  {
   "cell_type": "code",
   "execution_count": 60,
   "metadata": {
    "scrolled": true
   },
   "outputs": [
    {
     "name": "stdout",
     "output_type": "stream",
     "text": [
      "Depth наилучшей модели: 1\n",
      "N_estimators наилучшей модели: 1\n",
      "Accuracy на валидационной выборке: 0.7843784378437844\n",
      "Precision на валидационной выборке: 0.4789915966386555\n",
      "Recall на валидационной выборке: 0.4535809018567639\n",
      "F1 на валидационной выборке: 0.46594005449591286\n",
      "ROC_AUC на валидационной выборке: 0.5731679481350448\n",
      "CPU times: user 1min 57s, sys: 384 ms, total: 1min 57s\n",
      "Wall time: 3min 59s\n"
     ]
    }
   ],
   "source": [
    "%%time\n",
    "best_model_forest = None\n",
    "best_depth_forest = 0\n",
    "best_n_est = 0\n",
    "best_acc_forest = 0\n",
    "best_prec_forest = 0\n",
    "best_rec_forest = 0\n",
    "best_f1_forest = 0\n",
    "best_roc_auc_forest = 0\n",
    "for depth in range(1, 20, 1):\n",
    "    for n in range(1, 100, 5):\n",
    "        model_forest = RandomForestClassifier(random_state=12345, max_depth=depth, n_estimators=n, \n",
    "                                              class_weight='balanced')\n",
    "        model_forest.fit(features_train, target_train)\n",
    "        predicted_valid_forest = pd.Series(model_tree.predict(features_valid))\n",
    "        result_forest = f1_score(target_valid, predicted_valid_forest)\n",
    "        if result_forest > best_f1_forest:\n",
    "            best_model_forest = model_forest\n",
    "            best_depth_forest = depth\n",
    "            best_n_est = n\n",
    "            best_acc_forest = accuracy_score(target_valid, predicted_valid_forest)\n",
    "            best_prec_forest = precision_score(target_valid, predicted_valid_forest)\n",
    "            best_rec_forest = recall_score(target_valid, predicted_valid_forest)\n",
    "            best_f1_forest = result_forest\n",
    "            probabilities_valid_forest = model_forest.predict_proba(features_valid)\n",
    "            probabilities_one_valid_forest = probabilities_valid_forest[:, 1]\n",
    "            best_roc_auc_forest = roc_auc_score(target_valid, probabilities_one_valid_forest)\n",
    "\n",
    "print('Depth наилучшей модели:', best_depth_forest)\n",
    "print('N_estimators наилучшей модели:', best_n_est)\n",
    "print(\"Accuracy на валидационной выборке:\", best_acc_forest)\n",
    "print(\"Precision на валидационной выборке:\", best_prec_forest)\n",
    "print(\"Recall на валидационной выборке:\", best_rec_forest)        \n",
    "print(\"F1 на валидационной выборке:\", best_f1_forest)\n",
    "print(\"ROC_AUC на валидационной выборке:\", best_roc_auc_forest)"
   ]
  },
  {
   "cell_type": "markdown",
   "metadata": {},
   "source": [
    "## вывод\n",
    "Лучшее значение получилось снова у дерева решений при глубине 5, значение Ф1 = 0.57"
   ]
  },
  {
   "cell_type": "markdown",
   "metadata": {},
   "source": [
    "## upsample"
   ]
  },
  {
   "cell_type": "markdown",
   "metadata": {},
   "source": [
    "Попробуем отбалансировать наши признаки с помощью апсемплинга. Использовано значение 4, т.к. признаков 0 в 4 раза больше чем 1, следовательно необходимо число 1 увеличить в 4 раза"
   ]
  },
  {
   "cell_type": "code",
   "execution_count": 61,
   "metadata": {
    "scrolled": true
   },
   "outputs": [],
   "source": [
    "def upsample(features, target, repeat):\n",
    "    features_zeros = features[target == 0]\n",
    "    features_ones = features[target == 1]\n",
    "    target_zeros = target[target == 0]\n",
    "    target_ones = target[target == 1]\n",
    "\n",
    "    features_upsampled = pd.concat([features_zeros] + [features_ones] * repeat)\n",
    "    target_upsampled = pd.concat([target_zeros] + [target_ones] * repeat)\n",
    "    \n",
    "    features_upsampled, target_upsampled = shuffle(\n",
    "        features_upsampled, target_upsampled, random_state=12345)\n",
    "    \n",
    "    return features_upsampled, target_upsampled\n",
    "\n",
    "features_upsampled, target_upsampled = upsample(features_train, target_train, 4)"
   ]
  },
  {
   "cell_type": "code",
   "execution_count": 62,
   "metadata": {
    "scrolled": true
   },
   "outputs": [
    {
     "name": "stdout",
     "output_type": "stream",
     "text": [
      "Depth наилучшей модели: 5\n",
      "Accuracy на тренировочной выборке: 0.9966996699669967\n",
      "Precision на тренировочной выборке: 0.9842657342657343\n",
      "Recall на тренировочной выборке: 1.0\n",
      "F1 на тренировочной выборке: 0.9920704845814978\n",
      "\n",
      "Accuracy на валидационной выборке: 0.7783278327832783\n",
      "Precision на валидационной выборке: 0.477112676056338\n",
      "Recall на валидационной выборке: 0.7188328912466844\n",
      "F1 на валидационной выборке: 0.5735449735449736\n",
      "ROC_AUC на валидационной выборке: 0.8396523192522141\n",
      "\n",
      "CPU times: user 731 ms, sys: 235 µs, total: 731 ms\n",
      "Wall time: 1.43 s\n"
     ]
    }
   ],
   "source": [
    "%%time\n",
    "best_model_tree = None\n",
    "best_depth_tree = 0\n",
    "best_acc_tree = 0\n",
    "best_prec_tree = 0\n",
    "best_rec_tree = 0\n",
    "best_f1_tree = 0\n",
    "best_roc_auc_tree = 0\n",
    "for depth in range(1, 20, 1):\n",
    "    model_tree = DecisionTreeClassifier(random_state=12345, max_depth=depth)\n",
    "    model_tree.fit(features_upsampled, target_upsampled)\n",
    "    predicted_valid_tree = pd.Series(model_tree.predict(features_valid))\n",
    "    predicted_train_tree = pd.Series(model_tree.predict(features_train))\n",
    "    result_tree = f1_score(target_valid, predicted_valid_tree)\n",
    "    if result_tree > best_f1_tree:\n",
    "        best_model_tree = model_tree\n",
    "        best_depth_tree = depth\n",
    "        best_acc_tree = accuracy_score(target_valid, predicted_valid_tree)\n",
    "        best_prec_tree = precision_score(target_valid, predicted_valid_tree)\n",
    "        best_rec_tree = recall_score(target_valid, predicted_valid_tree)\n",
    "        best_f1_tree = result_tree\n",
    "        probabilities_valid_tree = model_tree.predict_proba(features_valid)\n",
    "        probabilities_one_valid_tree = probabilities_valid_tree[:, 1]\n",
    "        best_roc_auc_tree = roc_auc_score(target_valid, probabilities_one_valid_tree)\n",
    "\n",
    "\n",
    "print('Depth наилучшей модели:', best_depth_tree)        \n",
    "\n",
    "print(\"Accuracy на тренировочной выборке:\", accuracy_score(target_train, predicted_train_tree))\n",
    "print(\"Precision на тренировочной выборке:\", precision_score(target_train, predicted_train_tree))\n",
    "print(\"Recall на тренировочной выборке:\", recall_score(target_train, predicted_train_tree))        \n",
    "print(\"F1 на тренировочной выборке:\", f1_score(target_train, predicted_train_tree))\n",
    "        \n",
    "print()\n",
    "print(\"Accuracy на валидационной выборке:\", best_acc_tree)\n",
    "print(\"Precision на валидационной выборке:\", best_prec_tree)\n",
    "print(\"Recall на валидационной выборке:\", best_rec_tree)        \n",
    "print(\"F1 на валидационной выборке:\", best_f1_tree)\n",
    "print(\"ROC_AUC на валидационной выборке:\", best_roc_auc_tree)\n",
    "print()"
   ]
  },
  {
   "cell_type": "code",
   "execution_count": 63,
   "metadata": {},
   "outputs": [
    {
     "name": "stdout",
     "output_type": "stream",
     "text": [
      "Depth наилучшей модели: 1\n",
      "N_estimators наилучшей модели: 1\n",
      "Accuracy на валидационной выборке: 0.7805280528052805\n",
      "Precision на валидационной выборке: 0.4696132596685083\n",
      "Recall на валидационной выборке: 0.4509283819628647\n",
      "F1 на валидационной выборке: 0.4600811907983762\n",
      "ROC_AUC на валидационной выборке: 0.5957410580995735\n",
      "CPU times: user 2min 51s, sys: 363 ms, total: 2min 52s\n",
      "Wall time: 5min 50s\n"
     ]
    }
   ],
   "source": [
    "%%time\n",
    "best_model_forest = None\n",
    "best_depth_forest = 0\n",
    "best_n_est = 0\n",
    "best_acc_forest = 0\n",
    "best_prec_forest = 0\n",
    "best_rec_forest = 0\n",
    "best_f1_forest = 0\n",
    "best_roc_auc_forest = 0\n",
    "for depth in range(1, 20, 1):\n",
    "    for n in range(1, 100, 5):\n",
    "        model_forest = RandomForestClassifier(random_state=12345, max_depth=depth, n_estimators=n)\n",
    "        model_forest.fit(features_upsampled, target_upsampled)\n",
    "        predicted_valid_forest = pd.Series(model_tree.predict(features_valid))\n",
    "        result_forest = f1_score(target_valid, predicted_valid_forest)\n",
    "        if result_forest > best_f1_forest:\n",
    "            best_model_forest = model_forest\n",
    "            best_depth_forest = depth\n",
    "            best_n_est = n\n",
    "            best_acc_forest = accuracy_score(target_valid, predicted_valid_forest)\n",
    "            best_prec_forest = precision_score(target_valid, predicted_valid_forest)\n",
    "            best_rec_forest = recall_score(target_valid, predicted_valid_forest)\n",
    "            best_f1_forest = result_forest\n",
    "            probabilities_valid_forest = model_forest.predict_proba(features_valid)\n",
    "            probabilities_one_valid_forest = probabilities_valid_forest[:, 1]\n",
    "            best_roc_auc_forest = roc_auc_score(target_valid, probabilities_one_valid_forest)\n",
    "\n",
    "print('Depth наилучшей модели:', best_depth_forest)\n",
    "print('N_estimators наилучшей модели:', best_n_est)\n",
    "print(\"Accuracy на валидационной выборке:\", best_acc_forest)\n",
    "print(\"Precision на валидационной выборке:\", best_prec_forest)\n",
    "print(\"Recall на валидационной выборке:\", best_rec_forest)        \n",
    "print(\"F1 на валидационной выборке:\", best_f1_forest)\n",
    "print(\"ROC_AUC на валидационной выборке:\", best_roc_auc_forest)"
   ]
  },
  {
   "cell_type": "markdown",
   "metadata": {},
   "source": [
    "## вывод\n",
    "наиболее \"успешной\" моделью с лучшим значением метрики F1 является модель дерева решений с глубиной 5, однако ф1 имеет значение всего 0.574."
   ]
  },
  {
   "cell_type": "markdown",
   "metadata": {},
   "source": [
    "# Downsample"
   ]
  },
  {
   "cell_type": "markdown",
   "metadata": {},
   "source": [
    "Попробуем даунсемпл. Используем фрак=0.25, т.к. 25% от 80% 0 в нашем балансе это 0.2. То есть таким образом мы долю 0 уменьшим в 4 раза."
   ]
  },
  {
   "cell_type": "code",
   "execution_count": 64,
   "metadata": {},
   "outputs": [],
   "source": [
    "def downsample(features, target, fraction):\n",
    "    features_zeros = features[target == 0]\n",
    "    features_ones = features[target == 1]\n",
    "    target_zeros = target[target == 0]\n",
    "    target_ones = target[target == 1]\n",
    "\n",
    "    features_downsampled = pd.concat(\n",
    "        [features_zeros.sample(frac=fraction, random_state=12345)] + [features_ones])\n",
    "    target_downsampled = pd.concat(\n",
    "        [target_zeros.sample(frac=fraction, random_state=12345)] + [target_ones])\n",
    "    \n",
    "    features_downsampled, target_downsampled = shuffle(\n",
    "        features_downsampled, target_downsampled, random_state=12345)\n",
    "    \n",
    "    return features_downsampled, target_downsampled\n",
    "\n",
    "features_downsampled, target_downsampled = downsample(features_train, target_train, 0.25)"
   ]
  },
  {
   "cell_type": "code",
   "execution_count": 65,
   "metadata": {},
   "outputs": [
    {
     "name": "stdout",
     "output_type": "stream",
     "text": [
      "accuracy = 0.6958195819581958\n",
      "precision = 0.3810810810810811\n",
      "recall = 0.7480106100795756\n",
      "f1 = 0.5049239033124441\n",
      "roc_auc = 0.7761630314933816\n"
     ]
    }
   ],
   "source": [
    "model_log = LogisticRegression(random_state=12345, solver='liblinear')\n",
    "model_log.fit(features_downsampled, target_downsampled)\n",
    "predicted_valid_log = model_log.predict(features_valid)\n",
    "\n",
    "print('accuracy =', accuracy_score(target_valid, predicted_valid_log))\n",
    "print('precision =', precision_score(target_valid, predicted_valid_log))\n",
    "print('recall =', recall_score(target_valid, predicted_valid_log))\n",
    "print('f1 =', f1_score(target_valid, predicted_valid_log))\n",
    "probabilities_valid_log = model_log.predict_proba(features_valid)\n",
    "probabilities_one_valid_log = probabilities_valid_log[:, 1]\n",
    "print('roc_auc =', roc_auc_score(target_valid, probabilities_one_valid_log))"
   ]
  },
  {
   "cell_type": "code",
   "execution_count": 66,
   "metadata": {},
   "outputs": [
    {
     "name": "stdout",
     "output_type": "stream",
     "text": [
      "Depth наилучшей модели: 6\n",
      "Accuracy на тренировочной выборке: 0.8098643197653098\n",
      "Precision на тренировочной выборке: 0.5205732778548312\n",
      "Recall на тренировочной выборке: 1.0\n",
      "F1 на тренировочной выборке: 0.6847065977500759\n",
      "\n",
      "Accuracy на валидационной выборке: 0.7436743674367436\n",
      "Precision на валидационной выборке: 0.4356005788712012\n",
      "Recall на валидационной выборке: 0.7984084880636605\n",
      "F1 на валидационной выборке: 0.5636704119850188\n",
      "ROC_AUC на валидационной выборке: 0.8343500405885245\n",
      "\n",
      "CPU times: user 334 ms, sys: 4.18 ms, total: 338 ms\n",
      "Wall time: 698 ms\n"
     ]
    }
   ],
   "source": [
    "%%time\n",
    "best_model_tree = None\n",
    "best_depth_tree = 0\n",
    "best_acc_tree = 0\n",
    "best_prec_tree = 0\n",
    "best_rec_tree = 0\n",
    "best_f1_tree = 0\n",
    "best_roc_auc_tree = 0\n",
    "for depth in range(1, 20, 1):\n",
    "    model_tree = DecisionTreeClassifier(random_state=12345, max_depth=depth)\n",
    "    model_tree.fit(features_downsampled, target_downsampled)\n",
    "    predicted_valid_tree = pd.Series(model_tree.predict(features_valid))\n",
    "    predicted_train_tree = pd.Series(model_tree.predict(features_train))\n",
    "    result_tree = f1_score(target_valid, predicted_valid_tree)\n",
    "    if result_tree > best_f1_tree:\n",
    "        best_model_tree = model_tree\n",
    "        best_depth_tree = depth\n",
    "        best_acc_tree = accuracy_score(target_valid, predicted_valid_tree)\n",
    "        best_prec_tree = precision_score(target_valid, predicted_valid_tree)\n",
    "        best_rec_tree = recall_score(target_valid, predicted_valid_tree)\n",
    "        best_f1_tree = result_tree\n",
    "        probabilities_valid_tree = model_tree.predict_proba(features_valid)\n",
    "        probabilities_one_valid_tree = probabilities_valid_tree[:, 1]\n",
    "        best_roc_auc_tree = roc_auc_score(target_valid, probabilities_one_valid_tree)\n",
    "\n",
    "\n",
    "print('Depth наилучшей модели:', best_depth_tree)        \n",
    "\n",
    "print(\"Accuracy на тренировочной выборке:\", accuracy_score(target_train, predicted_train_tree))\n",
    "print(\"Precision на тренировочной выборке:\", precision_score(target_train, predicted_train_tree))\n",
    "print(\"Recall на тренировочной выборке:\", recall_score(target_train, predicted_train_tree))        \n",
    "print(\"F1 на тренировочной выборке:\", f1_score(target_train, predicted_train_tree))\n",
    "        \n",
    "print()\n",
    "print(\"Accuracy на валидационной выборке:\", best_acc_tree)\n",
    "print(\"Precision на валидационной выборке:\", best_prec_tree)\n",
    "print(\"Recall на валидационной выборке:\", best_rec_tree)        \n",
    "print(\"F1 на валидационной выборке:\", best_f1_tree)\n",
    "print(\"ROC_AUC на валидационной выборке:\", best_roc_auc_tree)\n",
    "print()"
   ]
  },
  {
   "cell_type": "code",
   "execution_count": 67,
   "metadata": {},
   "outputs": [
    {
     "name": "stdout",
     "output_type": "stream",
     "text": [
      "Depth наилучшей модели: 1\n",
      "N_estimators наилучшей модели: 1\n",
      "Accuracy на валидационной выборке: 0.6991199119911992\n",
      "Precision на валидационной выборке: 0.38419618528610355\n",
      "Recall на валидационной выборке: 0.7480106100795756\n",
      "F1 на валидационной выборке: 0.5076507650765076\n",
      "ROC_AUC на валидационной выборке: 0.5957410580995735\n",
      "CPU times: user 1min 4s, sys: 274 ms, total: 1min 4s\n",
      "Wall time: 2min 15s\n"
     ]
    }
   ],
   "source": [
    "%%time\n",
    "best_model_forest = None\n",
    "best_depth_forest = 0\n",
    "best_n_est = 0\n",
    "best_acc_forest = 0\n",
    "best_prec_forest = 0\n",
    "best_rec_forest = 0\n",
    "best_f1_forest = 0\n",
    "best_roc_auc_forest = 0\n",
    "for depth in range(1, 20, 1):\n",
    "    for n in range(1, 100, 5):\n",
    "        model_forest = RandomForestClassifier(random_state=12345, max_depth=depth, n_estimators=n)\n",
    "        model_forest.fit(features_downsampled, target_downsampled)\n",
    "        predicted_valid_forest = pd.Series(model_tree.predict(features_valid))\n",
    "        result_forest = f1_score(target_valid, predicted_valid_forest)\n",
    "        if result_forest > best_f1_forest:\n",
    "            best_model_forest = model_forest\n",
    "            best_depth_forest = depth\n",
    "            best_n_est = n\n",
    "            best_acc_forest = accuracy_score(target_valid, predicted_valid_forest)\n",
    "            best_prec_forest = precision_score(target_valid, predicted_valid_forest)\n",
    "            best_rec_forest = recall_score(target_valid, predicted_valid_forest)\n",
    "            best_f1_forest = result_forest\n",
    "            probabilities_valid_forest = model_forest.predict_proba(features_valid)\n",
    "            probabilities_one_valid_forest = probabilities_valid_forest[:, 1]\n",
    "            best_roc_auc_forest = roc_auc_score(target_valid, probabilities_one_valid_forest)\n",
    "\n",
    "print('Depth наилучшей модели:', best_depth_forest)\n",
    "print('N_estimators наилучшей модели:', best_n_est)\n",
    "print(\"Accuracy на валидационной выборке:\", best_acc_forest)\n",
    "print(\"Precision на валидационной выборке:\", best_prec_forest)\n",
    "print(\"Recall на валидационной выборке:\", best_rec_forest)        \n",
    "print(\"F1 на валидационной выборке:\", best_f1_forest)\n",
    "print(\"ROC_AUC на валидационной выборке:\", best_roc_auc_forest)"
   ]
  },
  {
   "cell_type": "markdown",
   "metadata": {},
   "source": [
    "## Вывод\n",
    "Лучшей моделью снова стала модель дерева решений и ф1 на валидационной выборке равно 0.567."
   ]
  },
  {
   "cell_type": "markdown",
   "metadata": {},
   "source": [
    "# 4. Тестирование модели"
   ]
  },
  {
   "cell_type": "code",
   "execution_count": 68,
   "metadata": {},
   "outputs": [
    {
     "name": "stdout",
     "output_type": "stream",
     "text": [
      "(5454, 11)\n",
      "(1818, 11)\n",
      "(7272, 11)\n",
      "(7272,)\n",
      "7272\n"
     ]
    }
   ],
   "source": [
    "print(features_train.shape)\n",
    "print(features_valid.shape)\n",
    "features_train_valid = pd.concat((features_train, features_valid))\n",
    "target_train_valid = pd.concat((target_train, target_valid))\n",
    "\n",
    "#target_downsampled = pd.concat(\n",
    "#        [target_zeros.sample(frac=fraction, random_state=12345)] + [target_ones])\n",
    "print(features_train_valid.shape)\n",
    "print(target_train_valid.shape)\n",
    "print(5454 + 1818)"
   ]
  },
  {
   "cell_type": "markdown",
   "metadata": {},
   "source": [
    "объединены обучающая и валидационная выборки для обучения модели и проверки на тестовой выборке"
   ]
  },
  {
   "cell_type": "code",
   "execution_count": 69,
   "metadata": {
    "scrolled": false
   },
   "outputs": [
    {
     "name": "stdout",
     "output_type": "stream",
     "text": [
      "Accuracy на тренировочной выборке: 0.8562522918958563\n",
      "Precision на тренировочной выборке: 0.8461538461538461\n",
      "Recall на тренировочной выборке: 0.37122557726465366\n",
      "F1 на тренировочной выборке: 0.5160493827160494\n",
      "\n",
      "Accuracy на тестовой выборке: 0.7663551401869159\n",
      "Precision на тестовой выборке: 0.3072916666666667\n",
      "Recall на тестовой выборке: 0.16809116809116809\n",
      "F1 на тестовой выборке: 0.21731123388581952\n",
      "ROC_AUC на тестовой выборке: 0.3909693596342098\n"
     ]
    }
   ],
   "source": [
    "model = DecisionTreeClassifier(random_state=12345, max_depth=5)\n",
    "model.fit(features_train_valid, target_train_valid)\n",
    "predicted_test_tree = pd.Series(model.predict(features_test))\n",
    "predicted_train = pd.Series(model.predict(features_train))\n",
    "\n",
    "acc = accuracy_score(target_test, predicted_test_tree)\n",
    "prec = precision_score(target_test, predicted_test_tree)\n",
    "rec = recall_score(target_test, predicted_test_tree)\n",
    "f1 = f1_score(target_test, predicted_test_tree)\n",
    "probabilities = model_tree.predict_proba(features_test)\n",
    "probabilities_one = probabilities[:, 1]\n",
    "roc_auc = roc_auc_score(target_test, probabilities_one)\n",
    "\n",
    "print(\"Accuracy на тренировочной выборке:\", accuracy_score(target_train, predicted_train))\n",
    "print(\"Precision на тренировочной выборке:\", precision_score(target_train, predicted_train))\n",
    "print(\"Recall на тренировочной выборке:\", recall_score(target_train, predicted_train))        \n",
    "print(\"F1 на тренировочной выборке:\", f1_score(target_train, predicted_train))\n",
    "\n",
    "print()\n",
    "print(\"Accuracy на тестовой выборке:\", acc)\n",
    "print(\"Precision на тестовой выборке:\", prec)\n",
    "print(\"Recall на тестовой выборке:\", rec)        \n",
    "print(\"F1 на тестовой выборке:\", f1)\n",
    "print(\"ROC_AUC на тестовой выборке:\", roc_auc)"
   ]
  },
  {
   "cell_type": "code",
   "execution_count": 94,
   "metadata": {},
   "outputs": [
    {
     "name": "stdout",
     "output_type": "stream",
     "text": [
      "F1 = 0.5908496732026144\n"
     ]
    }
   ],
   "source": [
    "features_train_valid = pd.concat((features_train, features_valid))\n",
    "target_train_valid = pd.concat((target_train, target_valid))\n",
    "\n",
    "features_upsampled, target_upsampled = upsample(features_train_valid, target_train_valid, 3)\n",
    "\n",
    "model_f = RandomForestClassifier(random_state=12345, n_estimators=100)\n",
    "model_f.fit(features_upsampled, target_upsampled)\n",
    "predicted_test = model.predict(features_test)\n",
    "print('F1 =', f1_score(target_test, predicted_test))"
   ]
  },
  {
   "cell_type": "markdown",
   "metadata": {},
   "source": [
    "## Вывод\n",
    "К сожалению результат проверки ключевой метрики ф1 неудовлетворительный. Буду рад, если поможете разобраться в каком месте я допускаю ошибки и у меня получится увеличить значение метрики до 0.60."
   ]
  },
  {
   "cell_type": "code",
   "execution_count": 96,
   "metadata": {},
   "outputs": [
    {
     "data": {
      "image/png": "[encoded data removed]",
      "text/plain": [
       "<Figure size 432x288 with 1 Axes>"
      ]
     },
     "metadata": {
      "needs_background": "light"
     },
     "output_type": "display_data"
    }
   ],
   "source": [
    "import seaborn as sns\n",
    "def chart_feature_imp(model):\n",
    "    feature_imp = pd.Series(model.feature_importances_, index=features_valid.columns).sort_values(ascending=False)\n",
    "\n",
    "    ax = sns.barplot(x=feature_imp, y=feature_imp.index)\n",
    "    _ = ax.set(xlabel='Оценка важности признаков', ylabel='Признаки')\n",
    "    _ = ax.set_title('Визуализация важности признаков')\n",
    "\n",
    "chart_feature_imp(model_f)\n"
   ]
  },
  {
   "cell_type": "markdown",
   "metadata": {},
   "source": [
    "# Чек-лист готовности проекта"
   ]
  },
  {
   "cell_type": "markdown",
   "metadata": {},
   "source": [
    "- [x]  Jupyter Notebook открыт\n",
    "- [x]  Весь код выполняется без ошибок\n",
    "- [x]  Ячейки с кодом расположены в порядке исполнения\n",
    "- [x]  Выполнен шаг 1: данные подготовлены\n",
    "- [x]  Выполнен шаг 2: задача исследована\n",
    "    - [x]  Исследован баланс классов\n",
    "    - [x]  Изучены модели без учёта дисбаланса\n",
    "    - [x]  Написаны выводы по результатам исследования\n",
    "- [x]  Выполнен шаг 3: учтён дисбаланс\n",
    "    - [x]  Применено несколько способов борьбы с дисбалансом\n",
    "    - [x]  Написаны выводы по результатам исследования\n",
    "- [x]  Выполнен шаг 4: проведено тестирование\n",
    "- [-]  Удалось достичь *F1*-меры не менее 0.59\n",
    "- [x]  Исследована метрика *AUC-ROC*"
   ]
  },
  {
   "cell_type": "code",
   "execution_count": 48,
   "metadata": {},
   "outputs": [
    {
     "name": "stdout",
     "output_type": "stream",
     "text": [
      "19.8 минут считается весь проект\n"
     ]
    }
   ],
   "source": [
    "end = time.time()\n",
    "print(np.round((end - start)/60, 1), 'минут считается весь проект')"
   ]
  }
 ],
 "metadata": {
  "kernelspec": {
   "display_name": "Python 3",
   "language": "python",
   "name": "python3"
  },
  "language_info": {
   "codemirror_mode": {
    "name": "ipython",
    "version": 3
   },
   "file_extension": ".py",
   "mimetype": "text/x-python",
   "name": "python",
   "nbconvert_exporter": "python",
   "pygments_lexer": "ipython3",
   "version": "3.8.5"
  }
 },
 "nbformat": 4,
 "nbformat_minor": 2
}
